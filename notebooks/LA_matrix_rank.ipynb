{
 "cells": [
  {
   "attachments": {},
   "cell_type": "markdown",
   "metadata": {},
   "source": [
    "# 行列の階数\n",
    "\n",
    "行列の$A$の$r$次の小行列式を考えよう。\n",
    "全ての小行列式の中に、０でない小行列式があるような次数$r$の最大値を$A$の階数という。\n",
    "また、これは他にも\n",
    "* １次独立な列（行）の最大本数\n",
    "* 線形写像の像空間の次元\n",
    "\n",
    "ともみなせる。\n",
    "\n",
    "## 零空間と像空間\n",
    "\n",
    "線形写像$A : V \\to U$に対して、\n",
    "$$\n",
    "\\operatorname{Ker} A:=\\{x \\mid x \\in V, A x=0\\}\n",
    "$$\n",
    "を$A$の零空間もしくは核空間という。また、　\n",
    "$$\n",
    "\\operatorname{Im} A:=\\{A x \\mid x \\in V\\} \\subseteq U\n",
    "$$\n",
    "を$A$の像空間という。\n",
    "\n",
    "$\\operatorname{rank} A$は１次独立な行の数なので、$\\operatorname{dim}\\operatorname{Im}{A}=\\operatorname{rank} A$がすぐにわかる。\n",
    "核空間は写像によって$0$につぶれてしまう空間、像空間は写像を適用してもそのまま残る空間なので、次が成立します（証明はめんどくさいかも。[次元定理の意味，具体例，証明](https://manabitimes.jp/math/1077)参照。）\n",
    "\n",
    "$$\n",
    "\\begin{aligned}\n",
    "& \\operatorname{Im} A \\cong V / \\operatorname{Ker} A \\\\\n",
    "& \\quad \\operatorname{rank} A=\\operatorname{dim} \\operatorname{Im} A=\\operatorname{dim} V-\\operatorname{dim} \\operatorname{Ker} A\n",
    "\\end{aligned}\n",
    "$$\n",
    "\n",
    "## rankについての定理いろいろ\n",
    "\n",
    "---\n",
    "\n",
    "$$\n",
    "\\operatorname{rank} A B \\leq \\min (\\operatorname{rank} A, \\operatorname{rank} B)\n",
    "$$\n",
    "\n",
    "証明は簡単です。\n",
    "$\\operatorname{Im} A B \\subseteq \\operatorname{Im} A$より、$\\operatorname{rank} A B \\leq \\operatorname{rank} A$。\n",
    "一方で、$\\operatorname{rank} A B=\\operatorname{rank} B^{\\top} A^{\\top} \\leq \\operatorname{rank} B^{\\top}=\\operatorname{rank} B$が成立する。\n",
    "\n",
    "---\n",
    "\n",
    "---\n",
    "\n",
    "$S$, $T$が正則なら、$\\operatorname{rank} A=\\operatorname{rank} S A T$。\n",
    "\n",
    "まず、$\\operatorname{rank} A \\geq \\operatorname{rank} S A T$。同時に、$\\operatorname{rank} A=\\operatorname{rank} S^{-1}(S A T) T^{-1} \\leq \\operatorname{rank} S A T$。\n",
    "\n",
    "---\n"
   ]
  },
  {
   "cell_type": "code",
   "execution_count": null,
   "metadata": {},
   "outputs": [],
   "source": []
  }
 ],
 "metadata": {
  "language_info": {
   "name": "python"
  },
  "orig_nbformat": 4
 },
 "nbformat": 4,
 "nbformat_minor": 2
}
