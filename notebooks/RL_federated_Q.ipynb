{
 "cells": [
  {
   "attachments": {},
   "cell_type": "markdown",
   "metadata": {},
   "source": [
    "# 連合Q学習\n",
    "\n",
    "参考\n",
    "* [The Blessing of Heterogeneity in Federated Q-learning: Linear Speedup and Beyond](https://arxiv.org/abs/2305.10697)\n",
    "\n",
    "連合強化学習は，学習環境が分散している状況で強化学習をする問題設定です．\n",
    "\n",
    "$K$体のエージェントがいる状況を考えます．このとき，FedSynQアルゴリズムは以下の手順で学習を行います．\n",
    "\n",
    "それぞれのエージェントは$t$ステップ目に次のように一時的なQ関数を計算します：\n",
    "$$\n",
    "\\forall(s, a) \\in \\mathcal{S} \\times \\mathcal{A}: \\quad Q_{t-\\frac{1}{2}}^k(s, a)=(1-\\eta) Q_{t-1}^k(s, a)+\\eta\\left(r(s, a)+\\gamma V_{t-1}^k\\left(s_t^k(s, a)\\right)\\right)\n",
    "$$\n",
    "\n",
    "この一時的なQ関数を用いて，全体のQ関数を次の形式で更新します：\n",
    "\n",
    "$$\n",
    "\\forall(s, a) \\in \\mathcal{S} \\times \\mathcal{A}: \\quad Q_t^k(s, a)= \\begin{cases}\\frac{1}{K} \\sum_{k=1}^K Q_{t-\\frac{1}{2}}^k(s, a) & \\text { if } t \\equiv 0(\\bmod \\tau) \\\\ Q_{t-\\frac{1}{2}}^k(s, a) & \\text { otherwise }\\end{cases}\n",
    "$$\n",
    "\n",
    "TODO: 続き"
   ]
  },
  {
   "cell_type": "code",
   "execution_count": null,
   "metadata": {},
   "outputs": [],
   "source": []
  }
 ],
 "metadata": {
  "language_info": {
   "name": "python"
  },
  "orig_nbformat": 4
 },
 "nbformat": 4,
 "nbformat_minor": 2
}
