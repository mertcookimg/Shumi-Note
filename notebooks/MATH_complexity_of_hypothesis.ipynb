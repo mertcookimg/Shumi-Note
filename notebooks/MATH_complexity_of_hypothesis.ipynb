{
 "cells": [
  {
   "attachments": {},
   "cell_type": "markdown",
   "metadata": {},
   "source": [
    "# 仮説集合の複雑度\n",
    "\n",
    "参考：\n",
    "* [統計的学習理論 (機械学習プロフェッショナルシリーズ)](https://amzn.asia/d/5OudVVi)\n",
    "\n",
    "[前回](MATH_statistical_learning_theory.ipynb)の続きです。\n",
    "今回は仮説集合の複雑さを測るための尺度について説明します。"
   ]
  },
  {
   "attachments": {},
   "cell_type": "markdown",
   "metadata": {},
   "source": [
    "## VC次元\n",
    "\n",
    "VC次元は主に二値判別問題のための仮説集合に対して定義される複雑度ですが、多値判別や回帰問題に拡張することも可能です。\n",
    "VCの名前は創始者に由来しています。\n",
    "\n",
    "二値判別のための仮説集合を$\\mathcal{H}$とします。\n",
    "仮説$h\\in \\mathcal{H}$は、入力空間$\\mathcal{X}$から$|\\mathcal{Y}|=2$であるようなラベル集合$\\mathcal{Y}$への関数とします。\n",
    "\n",
    "入力の集合$\\{x_1, \\cdots, x_n\\}\\subset \\mathcal{X}$に対して、全ての仮説$h$の出力による$\\mathcal{Y}^n$の部分集合$\\{(h(x_1), \\cdots, h(x_n))\\in \\mathcal{Y}^n\\mid h \\in \\mathcal{H}\\}$\n",
    "を考えましょう。この要素数を\n",
    "\n",
    "$$\n",
    "\\Pi_\\mathcal{H}(x_1, \\cdots, x_n)=\\{(h(x_1), \\cdots, h(x_n))\\in \\mathcal{Y}^n\\mid h \\in \\mathcal{H}\\}|\n",
    "$$\n",
    "とします。\n",
    "このとき、$h(x)$は二値を返すので、出力は全部で$2^n$通りあります。よって、$\\Pi_\\mathcal{H}(x_1, \\cdots, x_n) \\leq 2^n$が成り立ちます。\n",
    "逆に、$\\Pi_\\mathcal{H}(x_1, \\cdots, x_n)=2^n$であれば、任意のラベルを表現することができます。\n",
    "\n",
    "ここで、入力の数$n$が増えると表現のパターンが豊富になり、$\\Pi_\\mathcal{H}(x_1, \\cdots, x_n)=2^n$が成立するような$\\mathcal{H}もどんどん大きくなる必要があります。\n",
    "$2^n$の境界となるデータ数$n$をVC次元と呼びます。つまり、\n",
    "\n",
    "$$\n",
    "\\operatorname{VCdim}(\\mathcal{H}) = \\max\\left\\{n \\in \\mathbb{N}\\mid \\max_{x_1, \\cdots, x_n\\in \\mathcal{X}} \\Pi_{\\mathcal{H}}(x_1, \\cdots, x_n) = 2^n\\right\\}\n",
    "$$\n",
    "\n",
    "つまりこれは、どのようなラベル付にも対応可能な仮説が存在するようなデータ数の上限のことを表します。\n",
    "\n",
    "VC次元について、次の補題が成立します:\n",
    "\n",
    "---\n",
    "\n",
    "**Sauer's lemma**\n",
    "\n",
    "2値ラベルに値を取る仮説集合$\\mathcal{H}$のVC次元が$d$のとき、つまり、$\\max\\left\\{n \\in \\mathbb{N}\\mid \\max_{x_1, \\cdots, x_n\\in \\mathcal{X}} \\Pi_{\\mathcal{H}}(x_1, \\cdots, x_n) = 2^n\\right\\} = d$のとき、$n\\geq d$に対して、\n",
    "\n",
    "$$\n",
    "\\max_{x_1, \\cdots, x_n\\in \\mathcal{X}} \\Pi_{\\mathcal{H}}(x_1, \\cdots, x_n) \\leq \\left(\\frac{en}{d}\\right)^d\n",
    "$$\n",
    "になります。つまり、表現できるパターンの数のオーダーが$\\mathcal{O}(n^d)$になります。\n",
    "\n",
    "---"
   ]
  }
 ],
 "metadata": {
  "language_info": {
   "name": "python"
  },
  "orig_nbformat": 4
 },
 "nbformat": 4,
 "nbformat_minor": 2
}
