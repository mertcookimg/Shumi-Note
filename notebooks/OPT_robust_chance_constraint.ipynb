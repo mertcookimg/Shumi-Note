{
 "cells": [
  {
   "attachments": {},
   "cell_type": "markdown",
   "metadata": {},
   "source": [
    "# 分布型ロバスト最適化\n",
    "\n",
    "参考：\n",
    "\n",
    "* [Robust Optimization](https://www2.isye.gatech.edu/~nemirovs/FullBookDec11.pdf) \n",
    "\n",
    "[前回](OPT_robust_optimization.ipynb)は範囲が固定の不確実集合について扱っていました．しかし，現実にはだいたいのパラメータは何らかの分布に従って確率的な挙動を示します．"
   ]
  },
  {
   "attachments": {},
   "cell_type": "markdown",
   "metadata": {},
   "source": [
    "## 確率的制約（Chance Constraint）\n",
    "\n",
    "確率的制約はその名の通り，制約が満たされているかどうかを確率的に判定します．\n",
    "\n",
    "例として，通常の制約\n",
    "\n",
    "$$\n",
    "a^T x \\leq b,[a ; b]=\\left[a^0 ; b^0\\right]+\\sum_{\\ell=1}^L \\zeta_{\\ell}\\left[a^{\\ell} ; b^{\\ell}\\right]\n",
    "$$\n",
    "\n",
    "を考えてみましょう．確率的制約では\n",
    "\n",
    "$$\n",
    "p(x) \\equiv \\operatorname{Prob}_{\\zeta \\sim P}\\left\\{\\zeta:\\left[a^0\\right]^T x+\\sum_{\\ell=1}^L \\zeta_{\\ell}\\left[a^{\\ell}\\right]^T x>b^0+\\sum_{\\ell=1}^L \\zeta_{\\ell} b^{\\ell}\\right\\} \\leq \\epsilon\n",
    "$$\n",
    "\n",
    "として制約を扱います．\n",
    "この制約を[不確実線形計画法](OPT_robust_optimization.ipynb)に適用して，確率的制約のもとでの不確実線形計画法を扱っても良い気がしますが，これは一般に計算コスト的に扱えません．\n",
    "\n",
    "一般に，上の式の左辺を評価するのはNP困難だと言われています（$\\zeta$が独立でも$[-1, 1]$について一様でもダメです）．\n",
    "\n",
    "このままだと扱えないので，扱いやすいに変形します：\n",
    "\n",
    "---\n",
    "\n",
    "**Safe Convex Approximation of Chance Constraints**\n",
    "\n",
    "$\\left\\{\\left[a^{\\ell} ; b^{\\ell}\\right]\\right\\}_{\\ell=0}^L, P, \\epsilon$を確率的制約のデータとします．\n",
    "$\\mathcal{S}$を$x$と$v$についての凸最適化システムとします．\n",
    "\n",
    "このとき，$\\mathcal{S}$の実行可能解$(x, v)$が確率的制約の実行可能界である時，$\\mathcal{S}$をsafe convex approximationといいます．\n",
    "\n",
    "---\n",
    "\n",
    "つまり，確率的制約は扱えないですが，それをsafe approximationに変えてしまえば問題ありません．\n"
   ]
  },
  {
   "attachments": {},
   "cell_type": "markdown",
   "metadata": {},
   "source": [
    "## Safe Tractable Approximationへの変換\n",
    "\n",
    "$\\xi_\\ell$が次の条件を満たすとします．\n",
    "\n",
    "$$\n",
    "\\mathbf{E}\\left\\{\\zeta_{\\ell}\\right\\}=0 \\&\\left|\\zeta_{\\ell}\\right| \\leq 1, \\ell=1, \\ldots, L \\&\\left\\{\\zeta_{\\ell}\\right\\}_{\\ell=1}^L \\text { are independent }\n",
    "$$\n",
    "\n",
    "また，確率的制約は次の形式に変形できることに注意しましょう．\n",
    "\n",
    "$$\n",
    "\\eta \\equiv \\sum_{\\ell=1}^L\\left[\\left[a^{\\ell}\\right]^T x-b^{\\ell}\\right] \\zeta_{\\ell} \\leq b^0-\\left[a^0\\right]^T x\n",
    "$$\n",
    "\n",
    "このとき，$\\eta$は平均$0$かつ標準偏差が次の確率変数です：\n",
    "\n",
    "$$\n",
    "\\operatorname{StD}[\\eta]=\\sqrt{\\sum_{\\ell=1}^L\\left(\\left[a^{\\ell}\\right]^T x-b^{\\ell}\\right)^2 \\mathbf{E}\\left\\{\\zeta_{\\ell}^2\\right\\}} \\leq \\sqrt{\\sum_{\\ell=1}^L\\left(\\left[a^{\\ell}\\right]^T x-b^{\\ell}\\right)^2} .\n",
    "$$\n",
    "\n",
    "つまり，確率的制約はこの確率変数が$ b^0-\\left[a^0\\right]^T x$を確率$1-\\varepsilon$以上で満足するのと等価です．\n",
    "\n",
    "さて，標準偏差が与えられているので，その定数倍以下になるような制約を考えれば，多分高確率で制約を満たしそうです．よって，定数$\\Omega$を使って，\n",
    "\n",
    "$$\n",
    "\\Omega \\sqrt{\\sum_{\\ell=1}^L\\left(\\left[a^{\\ell}\\right]^T x-b^{\\ell}\\right)^2} \\leq b^0-\\left[a^0\\right]^T x\\;.\n",
    "$$\n",
    "\n",
    "と確率的制約を置き換えても良さそうです．\n",
    "実際，これは次の確率的制約のsafe approximationになっています（教科書のCorollary2.3.2付近参照）：\n",
    "\n",
    "$$\n",
    "\\operatorname{Prob}\\left\\{\\left[a^0\\right]^T x+\\sum_{\\ell=1}^L \\zeta_{\\ell}\\left[a^{\\ell}\\right]^T x>b^0+\\sum_{\\ell=1}^L \\zeta_{\\ell} b^{\\ell}\\right\\} \\leq \\exp \\left\\{-\\Omega^2 / 2\\right\\}\n",
    "$$"
   ]
  },
  {
   "cell_type": "code",
   "execution_count": null,
   "metadata": {},
   "outputs": [],
   "source": []
  }
 ],
 "metadata": {
  "language_info": {
   "name": "python"
  },
  "orig_nbformat": 4
 },
 "nbformat": 4,
 "nbformat_minor": 2
}
