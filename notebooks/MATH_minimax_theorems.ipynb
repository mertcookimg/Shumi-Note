{
 "cells": [
  {
   "attachments": {},
   "cell_type": "markdown",
   "metadata": {},
   "source": [
    "# Minimax双対性の必要条件と十分条件について"
   ]
  },
  {
   "attachments": {},
   "cell_type": "markdown",
   "metadata": {},
   "source": [
    "\n",
    "参考\n",
    "* [Minimax theorems and their proofs](https://link.springer.com/chapter/10.1007/978-1-4613-3557-3_1)\n",
    "\n",
    "$X$と$Y$を空でない集合とし，関数$f: X \\times Y \\mapsto \\mathbb{R}$を考えましょう．\n",
    "次が成り立っている時，minimax双対性が成り立っているといいます：\n",
    "\n",
    "$$\n",
    "\\sup _{x \\in X} \\inf _{y \\in Y} f(x, y)=\\inf _{y \\in Y} \\sup _{x \\in X} f(x, y) .\n",
    "$$\n",
    "\n",
    "この等号成立についての定理（Minimax定理）は1928年にノイマンによって初めて提案されました．\n",
    "このノートブックでは，様々なMinimax定理について見ていきます．（今回は代表的なやつだけ紹介しますが，もっと細かい派生については論文を参照してください）"
   ]
  },
  {
   "attachments": {},
   "cell_type": "markdown",
   "metadata": {},
   "source": [
    "## $X$と$Y$が一般的な凸集合の時のMinimax定理\n",
    "\n",
    "表記\n",
    "* $\\lambda \\in \\mathbb{R}$と$W\\subset X$について，\n",
    "    * $LE(W, \\lambda):= \\cap_{x \\in W}\\{y:y\\in Y, f(x, y)\\leq \\lambda\\}$\n",
    "    * $LT(W, \\lambda):= \\cap_{x \\in W}\\{y:y\\in Y, f(x, y) < \\lambda\\}$\n",
    "* $x\\in X$については\n",
    "    * $LE(x, \\lambda):= \\{y:y\\in Y, f(x, y)\\leq \\lambda\\}$\n",
    "    * $LT(x, \\lambda):= \\{y:y\\in Y, f(x, y) < \\lambda\\}$\n",
    "* $\\lambda \\in \\mathbb{R}$と$V\\subset Y$について，\n",
    "    * $GE(V, \\lambda):= \\cap_{y \\in V}\\{x:x\\in X, f(x, y)\\leq \\lambda\\}$\n",
    "    * $GT(V, \\lambda):= \\cap_{y \\in V}\\{x:x\\in X, f(x, y) < \\lambda\\}$\n",
    "* $y\\in Y$については\n",
    "    * $GE(y, \\lambda):= \\{x:x\\in X, f(x, y)\\leq \\lambda\\}$\n",
    "    * $GT(y, \\lambda):= \\{x:x\\in X, f(x, y) < \\lambda\\}$\n",
    "\n",
    "このとき，次が成立します：\n",
    "\n",
    "---\n",
    "\n",
    "**Von Neumann (1937)**\n",
    "\n",
    "仮定：\n",
    "\n",
    "* $X$と$Y$が空ではないコンパクトかつ凸なユークリッド空間の部分集合とします．\n",
    "* $f$はjointly continuousであるとします（つまり，$f(x, y)$が$(x, y)$について連続）\n",
    "* $f$が$X$についてquasiconcaveであるとします．つまり，\n",
    "$$\n",
    "\\text { for all } y \\in Y \\text { and } \\lambda \\in \\mathbb{R}, G E(\\lambda, y) \\text { is convex }\n",
    "$$\n",
    "* $f$が$Y$についてquasiconvexであるとします．つまり，\n",
    "$$\n",
    "\\text { for all } x \\in X \\text { and } \\lambda \\in \\mathbb{R}, L E(x, \\lambda) \\text { is convex. }\n",
    "$$\n",
    "\n",
    "このとき，$\\min _Y \\max _X f=\\max _X \\min _Y f$が成立します．\n",
    "\n",
    "---"
   ]
  },
  {
   "cell_type": "code",
   "execution_count": 8,
   "metadata": {},
   "outputs": [
    {
     "data": {
      "text/plain": [
       "<matplotlib.collections.LineCollection at 0x7ff89f146370>"
      ]
     },
     "execution_count": 8,
     "metadata": {},
     "output_type": "execute_result"
    },
    {
     "data": {
      "image/png": "[encoded data removed]",
      "text/plain": [
       "<Figure size 640x480 with 1 Axes>"
      ]
     },
     "metadata": {},
     "output_type": "display_data"
    }
   ],
   "source": [
    "import numpy as np\n",
    "import matplotlib.pyplot as plt\n",
    "\n",
    "# quasi-convexな関数はLE(x, lambda)が凸であることを描画してみましょう\n",
    "\n",
    "x = np.linspace(-3.0, 3.0)\n",
    "y = x ** 2\n",
    "\n",
    "plt.plot(x, y)\n",
    "plt.hlines(3.0, xmin=-3, xmax=3)\n",
    "\n",
    "\n",
    "xmin = x[y <= 3.0].min()\n",
    "xmax = x[y <= 3.0].max()\n",
    "plt.hlines(3.0, xmin=xmin, xmax=xmax, colors=\"r\")\n"
   ]
  },
  {
   "attachments": {},
   "cell_type": "markdown",
   "metadata": {},
   "source": [
    "## 半連続な関数についてのMinimax定理\n",
    "\n",
    "もう少し一般的な定理がSionのMinimax定理です．\n",
    "\n",
    "---\n",
    "\n",
    "**Sion (1958)**\n",
    "\n",
    "\n",
    "仮定：\n",
    "\n",
    "* $X$は線形な位相空間の凸な部分集合とします．\n",
    "* $Y$は線形な位相空間のコンパクトかつ凸な部分集合とします．\n",
    "* $f$は$X$について上に半連続，$Y$について下に半連続であるとします．\n",
    "* $f$が$X$についてquasiconcaveであるとします．つまり，\n",
    "$$\n",
    "\\text { for all } y \\in Y \\text { and } \\lambda \\in \\mathbb{R}, G E(\\lambda, y) \\text { is convex }\n",
    "$$\n",
    "* $f$が$Y$についてquasiconvexであるとします．つまり，\n",
    "$$\n",
    "\\text { for all } x \\in X \\text { and } \\lambda \\in \\mathbb{R}, L E(x, \\lambda) \\text { is convex. }\n",
    "$$\n",
    "\n",
    "このとき，$\\min _Y \\max _X f=\\max _X \\min _Y f$が成立します．\n",
    "\n",
    "---\n"
   ]
  },
  {
   "attachments": {},
   "cell_type": "markdown",
   "metadata": {},
   "source": [
    "## 位相論的なMinimax定理\n",
    "\n",
    "---\n",
    "\n",
    "**Wu (1959)**\n",
    "\n",
    "仮定\n",
    "\n",
    "* $X$を位相空間\n",
    "* $Y$をコンパクトかつ可分な位相空間\n",
    "* $f$はseparately continuousだとします（つまり，固定された$x$について$f(x, \\cdot)$が連続．逆も同じ）\n",
    "* 任意の$x_0, x_1 \\in X$について，次を満たす連続な写像$h: [0, 1] \\to X$が存在するとします：\n",
    "    * $h(0)=x_0$かつ$h(1)=x_1$\n",
    "    * 任意の$y\\in Y$と$\\lambda\\in \\mathbb{R}$について，$\\{t:t\\in [0, 1], f(h(t), y) \\geq \\lambda \\}$が$[0, 1]$で連結してる\n",
    "    * 任意の空でない有限な$X$の部分集合$W$と$\\lambda \\in \\mathbb{R}$について，$LT(W, \\lambda)$が$Y$で連結している．\n",
    "\n",
    "\n",
    "このとき，$\\min _Y \\max _X f=\\max _X \\min _Y f$が成立します．\n",
    "\n",
    "---"
   ]
  },
  {
   "attachments": {},
   "cell_type": "markdown",
   "metadata": {},
   "source": [
    "## 凸以外のベクトル空間の部分集合におけるMinimax定理\n",
    "\n",
    "---\n",
    "\n",
    "**Fan (1953)**\n",
    "\n",
    "仮定\n",
    "* $X$は空でない集合\n",
    "* $Y$は空でないコンパクトな位相空間\n",
    "* $f$は$Y$について下半連続とします．\n",
    "* $f$は$X$についてconcavelike，$Y$についてconvexlikeとします．つまり，\n",
    "    * 任意の$x_1, x_2 \\in X$と$\\alpha [0, 1]$について，$f(x_3, \\cdot) \\geq \\alpha f(x_1, \\cdot) + (1-\\alpha)f(x_2, \\cdot)$を満たす$x_3\\in X$が存在\n",
    "    * 任意の$y_1, y_2 \\in Y$と$\\beta [0, 1]$について，$f(\\cdot, y_3) \\geq \\beta f(\\cdot, y_1) + (1-\\beta)f(\\cdot, y_2)$を満たす$y_3\\in Y$が存在\n",
    "\n",
    "このとき，$\\min _Y \\max _X f=\\max _X \\min _Y f$が成立します．\n",
    "\n",
    "---\n"
   ]
  },
  {
   "attachments": {},
   "cell_type": "markdown",
   "metadata": {},
   "source": [
    "## WuとFanの合体版\n",
    "\n",
    "---\n",
    "\n",
    "**Terkelsen (1972)**\n",
    "\n",
    "省略．$X$についてはconvex likeかつ$Y$については位相論てきな条件になってる．\n",
    "\n",
    "---"
   ]
  }
 ],
 "metadata": {
  "kernelspec": {
   "display_name": "shumi-_oTXvTFg-py3.9",
   "language": "python",
   "name": "python3"
  },
  "language_info": {
   "codemirror_mode": {
    "name": "ipython",
    "version": 3
   },
   "file_extension": ".py",
   "mimetype": "text/x-python",
   "name": "python",
   "nbconvert_exporter": "python",
   "pygments_lexer": "ipython3",
   "version": "3.9.16"
  },
  "orig_nbformat": 4
 },
 "nbformat": 4,
 "nbformat_minor": 2
}
