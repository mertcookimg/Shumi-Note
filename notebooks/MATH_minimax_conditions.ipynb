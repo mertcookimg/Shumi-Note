{
 "cells": [
  {
   "attachments": {},
   "cell_type": "markdown",
   "metadata": {},
   "source": [
    "# Minimax双対性の必要条件と十分条件について"
   ]
  },
  {
   "attachments": {},
   "cell_type": "markdown",
   "metadata": {},
   "source": [
    "\n",
    "参考\n",
    "* [The Minimax Equality; Sufficient and Necessary Conditions](https://link.springer.com/article/10.1007/s10114-005-0836-6)\n",
    "\n",
    "$X$と$Y$を空でない集合とし，関数$a: X \\times Y \\mapsto \\mathbb{R}$を考えましょう．\n",
    "次が成り立っている時，minimax双対性が成り立っているといいます：\n",
    "\n",
    "$$\n",
    "\\sup _{x \\in X} \\inf _{y \\in Y} a(x, y)=\\inf _{y \\in Y} \\sup _{x \\in X} a(x, y) .\n",
    "$$\n",
    "\n",
    "このノートブックでは，minimax双対性が成り立つ必要条件と十分条件について見ていきます．\n",
    "\n",
    "任意の集合$S$について，$\\sigma(S)=\\left\\{S^{\\prime} \\subset S|| S \\mid<\\infty\\right\\}$とします．これは$S$に含まれる$S$より小さい集合の集合です．\n",
    "次は明らかにいつでも成り立ちます．\n",
    "\n",
    "$$\n",
    "\\sup _{x \\in X} \\inf _{y \\in Y} a(x, y) \\leq\\left\\{\\begin{array}{c}\n",
    "\\sup _{X^{\\prime} \\in \\sigma(X)} \\inf _{y \\in Y} \\max _{x \\in X^{\\prime}} a(x, y) \\\\\n",
    "\\inf _{Y^{\\prime} \\in \\sigma(Y)} \\sup _{x \\in X} \\min _{y \\in Y^{\\prime}} a(x, y)\n",
    "\\end{array} \\leq \\inf _{y \\in Y} \\sup _{x \\in X} a(x, y) .\\right.\n",
    "$$\n",
    "\n",
    "---\n",
    "\n",
    "一応証明を考えてみます．\n",
    "\n",
    "$$\n",
    "\\sup _{x \\in X} \\inf _{y \\in Y} a(x, y) \\leq\n",
    "\\sup _{X^{\\prime} \\in \\sigma(X)} \\inf _{y \\in Y} \\max _{x \\in X^{\\prime}} a(x, y)\n",
    "$$\n",
    "\n",
    "を証明しましょう．\n",
    "まず，通常のweak dualityと同様にして，\n",
    "$$\\max_{x \\in X'}\\inf_{y \\in Y} a(x, y) \\leq \\inf_{y \\in Y}\\max_{x \\in X'}a(x, y)$$\n",
    "です．\n",
    "両辺に$\\sup _{X^{\\prime} \\in \\sigma(X)}$をつければ証明終わりです．\n",
    "\n",
    "---"
   ]
  },
  {
   "attachments": {},
   "cell_type": "markdown",
   "metadata": {},
   "source": [
    "\n",
    "よって，minimax双対性は次が成立するのと等価です：\n",
    "\n",
    "$$\n",
    "\\begin{aligned}\n",
    "& \\sup _{X^{\\prime} \\in \\sigma(X)} \\inf _{y \\in Y} \\max _{x \\in X^{\\prime}} a(x, y) \\leq(=) \\sup _{x \\in X} \\inf _{y \\in Y} a(x, y) \\\\\n",
    "& \\sup _{X^{\\prime} \\in \\sigma(X)} \\inf _{y \\in Y} \\max _{x \\in X^{\\prime}} a(x, y) \\geq(=) \\inf _{y \\in Y} \\sup _{x \\in X} a(x, y) .\n",
    "\\end{aligned}\n",
    "$$\n",
    "\n",
    "この二個目を示すための必要十分条件を考えましょう．\n",
    "\n",
    "表記：\n",
    "* $x \\in X$と$\\alpha \\in \\mathbb{R}$について，$\\bar{Y}_\\alpha(x)=\\{y \\in Y \\mid a(x, y) \\leq \\alpha\\}$とします．つまり，$x$が与えられたときに，$\\alpha$以下になる$y$の集合です．\n",
    "* $X$の部分集合$X'$について，$\\bar{Y}_\\alpha\\left(X^{\\prime}\\right) = \\bigcap_{x \\in X^{\\prime}} \\bar{Y}_\\alpha(x)$とします．また，$\\bar{Y}_\\alpha(\\emptyset)=Y$とします．\n",
    "* $\\underline{v}=\\sup _{x \\in X} \\inf _{y \\in Y} a(x, y)$および$\\bar{v}=\\inf _{y \\in Y} \\sup _{x \\in X} a(x, y)$とします．\n"
   ]
  }
 ],
 "metadata": {
  "language_info": {
   "name": "python"
  },
  "orig_nbformat": 4
 },
 "nbformat": 4,
 "nbformat_minor": 2
}
