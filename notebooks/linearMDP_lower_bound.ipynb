{
 "cells": [
  {
   "attachments": {},
   "cell_type": "markdown",
   "metadata": {},
   "source": [
    "# Linear MDPのサンプル効率の下界\n",
    "\n",
    "参考\n",
    "* [Confident Approximate Policy Iteration for Efficient Local Planning in qπ-realizable MDPs](https://arxiv.org/abs/2210.15755)\n",
    "\n",
    "Linear MDPで「良い解」を達成するために必要なサンプルは最低いくつ必要でしょうか？今回はそれを導出してみます。　\n",
    "\n",
    "表記\n",
    "* $d$次元ユークリッドボール：$\\mathcal{B}_d(L)=\\left\\{x \\in \\mathbb{R}^d:\\|x\\| \\leq L\\right\\}$\n",
    "* 特徴ベクトル：$\\varphi: \\mathcal{S} \\times \\mathcal{A} \\rightarrow \\mathcal{B}_d(L)$\n",
    "* 状態遷移マップ：$\\psi: \\mathcal{S} \\rightarrow \\mathbb{R}^d$\n",
    "    * $P\\left(s^{\\prime} \\mid s, a\\right)=\\left\\langle\\varphi(s, a), \\psi\\left(s^{\\prime}\\right)\\right\\rangle$\n",
    "    * $\\sum_{s \\in \\mathcal{S}}\\|\\psi(s)\\|_2 \\leq B$\n",
    "* 報酬マップ：$\\theta_r \\in \\mathcal{B}_d(B)$\n",
    "    * $r(s, a)=\\left\\langle\\varphi(s, a), \\theta_r\\right\\rangle$\n",
    "* $(\\alpha, \\delta)-$ sound planner：あるMDP $M$にたいして、plannerが$\\alpha$-optimalな"
   ]
  },
  {
   "cell_type": "code",
   "execution_count": null,
   "metadata": {},
   "outputs": [],
   "source": []
  }
 ],
 "metadata": {
  "language_info": {
   "name": "python"
  },
  "orig_nbformat": 4
 },
 "nbformat": 4,
 "nbformat_minor": 2
}
