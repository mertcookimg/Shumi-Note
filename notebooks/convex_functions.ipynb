{
 "cells": [
  {
   "attachments": {},
   "cell_type": "markdown",
   "metadata": {},
   "source": [
    "# 凸関数\n",
    "\n",
    "凸最適化は色んな所で出てきます。\n",
    "ここでは凸最適化で出てくる、基本的な凸関数の知識をまとめておきます。\n",
    "\n",
    "\n",
    "参考\n",
    "\n",
    "* [Convex Optimization](https://web.stanford.edu/~boyd/cvxbook/bv_cvxbook.pdf)の3章\n",
    "* [凸解析の基礎: 凸錐・凸集合・凸関数 (数理経済学叢書)](https://www.amazon.co.jp/dp/4862852467)：良さそう。未読。"
   ]
  },
  {
   "attachments": {},
   "cell_type": "markdown",
   "metadata": {},
   "source": [
    "## 凸関数\n",
    "\n",
    "* 凸関数：ある関数$f: \\mathbb{R}^n \\to \\mathbb{R}$は$\\text{ dom } f$は次を満たす時に凸関数と呼ぶ：\n",
    "  * $\\text{ dom } f$が凸集合\n",
    "  * $f(\\theta x + (1 - \\theta) y) \\leq \\theta f(x) + (1 - \\theta) f(y)$\n",
    "  * 特に$0 < \\theta < 1$かつ$x\\neq y$で$<$の不等式が成り立っている場合、これは強凸関数と言う。\n",
    "  * 任意のアフィン関数は凸かつ凹関数である。また、任意の凸かつ凹関数はアフィン関数である。\n",
    "\n",
    "$x\\notin \\text{ dom } f$については、次のように$\\infty$を割り当てると便利なことが多い。\n",
    "\n",
    "$$\n",
    "\\tilde{f} = \n",
    "\\begin{cases}\n",
    "f(x) \\; & x \\in \\text{ dom } f \\\\\n",
    "\\infty \\; & x \\notin \\text{ dom } f\n",
    "\\end{cases}\n",
    "$$\n"
   ]
  },
  {
   "attachments": {},
   "cell_type": "markdown",
   "metadata": {},
   "source": [
    "## 凸関数の例\n",
    "\n",
    "TODO: p.73"
   ]
  },
  {
   "attachments": {},
   "cell_type": "markdown",
   "metadata": {},
   "source": [
    "## Sublevel集合とEpigraph\n",
    "\n",
    "* 関数$f: \\mathbb{R}^n \\to \\mathbb{R}$の$\\alpha$-sublevel集合：$C_\\alpha = \\{x \\in \\text{ dom } f | f(x) \\leq \\alpha \\}$　\n",
    "    * 凸関数のsublevel集合は凸集合。\n",
    "        * 証明：$x, y \\in C_\\alpha$について、$f(x) \\leq \\alpha$および$f(y) \\leq \\alpha$なので$f(\\theta x + (1 - \\theta)y) \\leq \\alpha$が$0 \\leq \\theta \\leq 1$で成り立つ。よって、$\\theta x + (1 - \\theta) y \\in C_\\alpha$。　\n",
    "        * この逆は成り立たないことに注意。例えば$f(x) = -e^x$\n",
    "* 関数$f: \\mathbb{R}^n \\to \\mathbb{R}$のGraph：$\\{(x, f(x))| x\\in \\text{ dom } f\\}$\n",
    "    * これは$\\mathbb{R}^{n+1}$のsubsetであることに注意\n",
    "* 関数$f: \\mathbb{R}^n \\to \\mathbb{R}$のEpigraph：$\\text{ epi } f = \\{(x, t)| x\\in \\text{ dom } f, f(x) \\leq t\\}$\n",
    "    * EpigraphのEpiはAboveと同じです。つまり``graphの上``を意味します。\n",
    "    * Epigraphのイメージは下の図参照\n",
    "    * 関数$f$が凸関数 $\\Longleftrightarrow$ $f$のEpigraphが凸集合\n",
    "\n",
    "![epigraph](figs/epigraph.png)\n",
    "\n",
    "\n",
    "## 凸関数の確認\n",
    "\n",
    "**直線上で確認**\n",
    "\n",
    "* ある関数が凸関数 $\\Longleftrightarrow$ 任意の$x \\in \\text{ dom } f$と任意の$v$について、$g(t) = f(x + tv)$が凸関数。　\n",
    "  * これは凸性の確認が直線を確認すればできる点で便利。\n",
    "\n",
    "**テイラー展開で確認**\n",
    "\n",
    "* ある関数が凸関数 $\\Longleftrightarrow$ $\\text{ dom } f$が凸集合かつ$f(y) \\geq f(x) + \\nabla f(x)^T (y - x)$が任意の$x, y \\in \\text{ dom } f$で成立。 \n",
    "  * つまり、ある点のテイラー展開が関数のUnder estimatorの場合、凸関数。逆も成立。\n",
    "  * $\\nabla f(x)=0$なら$x$は最小な$x$\n",
    "  * $\\geq$が$>$なら強凸性\n",
    "  * 下の図（[Convex Optimization](https://web.stanford.edu/~boyd/cvxbook/bv_cvxbook.pdf)のFigure 3.2参照）：\n",
    "\n",
    "![first-order](figs/first-order-convex.png)\n",
    "\n",
    "TODO: 証明\n",
    "\n",
    "**ヘッセ行列で確認**\n",
    "\n",
    "* ある関数が凸関数 $\\Longleftrightarrow$ $\\text{ dom } f$が凸集合かつ$f$のヘッセ行列が正則行列。つまり、任意の$x \\in \\text{ dom } f$で$\\nabla^2 f(x) \\succeq 0$。\n",
    "  * $\\nabla^2 f(x) \\succ 0$なら強凸関数だが、逆は成り立たない。例えば$f(x)=x^4$は強凸関数だが、$x=0$で$\\nabla^2 f(x) = 0$。\n",
    "\n",
    "TODO: 証明\n",
    "\n",
    "**集合での確認**\n",
    "\n",
    "* 関数$f$が凸関数 $\\Longleftrightarrow$ $f$のEpigraphが凸集合"
   ]
  },
  {
   "cell_type": "code",
   "execution_count": null,
   "metadata": {},
   "outputs": [],
   "source": []
  }
 ],
 "metadata": {
  "language_info": {
   "name": "python"
  },
  "orig_nbformat": 4
 },
 "nbformat": 4,
 "nbformat_minor": 2
}
