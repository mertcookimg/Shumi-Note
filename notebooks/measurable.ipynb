{
 "cells": [
  {
   "attachments": {},
   "cell_type": "markdown",
   "metadata": {},
   "source": [
    "# σ-加法族\n",
    "\n",
    "``σ-加法族``や``測度``という概念は、無限回の試行を考える確率論を導入するために重要な概念です。\n",
    "逆に、こういうややこしい概念を考えないと、確率の議論に矛盾が生じることがあります。\n",
    "\n",
    "例として、[Pillow Problems](https://www.amazon.com/gp/product/0486204936?ie=UTF8&tag=alfuanga04-20&linkCode=as2&camp=1789&creative=390957&creativeASIN=0486204936)にある問題を考えてみます ([測度・確率・ルベーグ積分 応用への最短コース](https://www.amazon.co.jp/%E6%B8%AC%E5%BA%A6%E3%83%BB%E7%A2%BA%E7%8E%87%E3%83%BB%E3%83%AB%E3%83%99%E3%83%BC%E3%82%B0%E7%A9%8D%E5%88%86-%E5%BF%9C%E7%94%A8%E3%81%B8%E3%81%AE%E6%9C%80%E7%9F%AD%E3%82%B3%E3%83%BC%E3%82%B9-KS%E7%90%86%E5%B7%A5%E5%AD%A6%E5%B0%82%E9%96%80%E6%9B%B8-%E5%8E%9F-%E5%95%93%E4%BB%8B/dp/4061565710) より引用)。\n",
    "\n",
    "---\n",
    "**例題: Pillow Problemsの58番**\n",
    "\n",
    "無限平面上に3つの点をランダムに選ぶ。これらのなす三角形が鈍角三角形である確率を求めよ。\n",
    "\n",
    "この問題に対して、Pillow Problemsの著者であるルイス・キャロルは実数値で答えを出しましたが、この問題自体におかしな点があります。\n",
    "\n",
    "そもそも``「無限平面上にランダムに点を選ぶ」``ができません。ある正方形 $A$ に点が含まれる確率を考えてみます。\n",
    "\n",
    "どこでも平等に点を選ぶため、別の場所にある同じ形の正方形 $B$ に点が含まれる確率と $A$ に点が含まれる確率は同じであり、２つのどちらかに入る確率はその和になります。しかし、無限平面には無限個の正方形を敷き詰めて良いので、確率が $0$ でない限り、平面のどこかに一点を選ぶ確率が無限大になります。\n",
    "よって、無限平面上に``一様な``確率を定義してはいけません。\n",
    "\n",
    "---\n",
    "\n",
    "このように、無限の世界で確率を考える場合に、直感的な確率で考えると議論に矛盾が生じる場合があります。\n",
    "\n",
    "これはコルモゴロフの[公理的確率](https://ja.wikipedia.org/wiki/%E7%A2%BA%E7%8E%87%E3%81%AE%E5%85%AC%E7%90%86)に基づいた確率の定義によって回避できます。そのために、ルベーグ積分やσ-加法族、そして測度の概念が必要になるのです。\n",
    "\n",
    "---\n",
    "**定義：σ-加法族**\n",
    "\n",
    "$\\Omega$を空でない集合とし, $\\mathcal{F}$ を $\\Omega$ の部分集合族 $\\mathcal{F} \\subset 2^\\Omega$ とする。\n",
    "次の性質を満たすとき、$\\mathcal{F}$ を $\\Omega$ 上のσ-加法族という。\n",
    "\n",
    "1. $\\emptyset \\in \\mathcal{F}$ \n",
    "2. $A \\in \\mathcal{F}$ ならば $A^c \\in \\mathcal{F}$\n",
    "3. $A_1, A_2, \\dots \\in \\mathcal{F}$ に対して、$\\cup^\\infty_{n=1} A_n \\in \\mathcal{F}$ \n",
    "---\n",
    "\n",
    "集合と部分集合族に対して、そのσ-加法性をチェックしてみましょう ([参考](https://qiita.com/sasakinzm/items/429a9fc629aa04880a02))"
   ]
  },
  {
   "cell_type": "code",
   "execution_count": 21,
   "metadata": {},
   "outputs": [],
   "source": [
    "from itertools import product\n",
    "\n",
    "def check_sigma_algebra(outcomes: frozenset, family: frozenset):\n",
    "    # 空集合の確認\n",
    "    if frozenset([]) not in family:\n",
    "        return False\n",
    "\n",
    "    # 補集合の確認\n",
    "    for _set in family:\n",
    "        if outcomes.difference(_set) not in family:\n",
    "            return False\n",
    "\n",
    "    # 可算和の確認\n",
    "    for n in range(len(family)):\n",
    "        # A_n の 取り方を全て試す\n",
    "        for A1_An in product(family, repeat=n):\n",
    "            sum_A1_An = frozenset([])\n",
    "            for Ai in A1_An:\n",
    "                sum_A1_An = sum_A1_An.union(Ai)\n",
    "            if sum_A1_An not in family:\n",
    "                return False\n",
    "    return True"
   ]
  },
  {
   "cell_type": "code",
   "execution_count": 26,
   "metadata": {},
   "outputs": [],
   "source": [
    "Omega = frozenset([\"a\", \"b\"])  # 標本空間\n",
    "F = frozenset([\n",
    "    Omega, \n",
    "    frozenset([]),\n",
    "    frozenset([\"a\"]),\n",
    "    frozenset([\"b\"]),\n",
    "])  # σ代数\n",
    "assert check_sigma_algebra(Omega, F)\n",
    "\n",
    "\n",
    "Omega = frozenset([\"a\", \"b\", \"c\"])  # 標本空間\n",
    "F = frozenset([\n",
    "    Omega, \n",
    "    frozenset([]),\n",
    "    frozenset([\"a\"]),\n",
    "    frozenset([\"b\", \"c\"]),\n",
    "])  # σ代数\n",
    "assert check_sigma_algebra(Omega, F)\n",
    "\n",
    "\n",
    "Omega = frozenset([\"a\", \"b\", \"c\"])  # 標本空間\n",
    "F = frozenset([\n",
    "    Omega, \n",
    "    frozenset([]),\n",
    "    frozenset([\"a\"]),\n",
    "    frozenset([\"b\"]),\n",
    "    frozenset([\"b\", \"c\"]),\n",
    "])  # σ代数ではない\n",
    "\n",
    "assert not check_sigma_algebra(Omega, F)"
   ]
  },
  {
   "attachments": {},
   "cell_type": "markdown",
   "metadata": {},
   "source": [
    "σ-加法族では、可算個の演算については通常必要な操作をすべて許しています。\n",
    "\n",
    "定義より、σ-加法族は和集合の操作について閉じています（可算有限・無限個の和）。\n",
    "また、補集合の操作について閉じているので、積集合や差の操作についても閉じています ($A \\cap B = (A^c\\cup B^c)^c$, $A \\setminus B = A\\cap B^c$)。\n",
    "\n",
    "σ-加法族のσは、数学の分野では可算無限に関連する用語として使用されます （[参考](https://tor-lattimore.com/downloads/book/book.pdf)のノート2.7.1）。\n",
    "σ-``加法``族はσ-``代数``とも呼ばれます。上述したように、可算無限和について閉じており、また、代数計算について閉じているためです。\n",
    "\n",
    "このような``良い``性質をもったσ-加法族に対して、コロモゴロフの公理に従った確率を定義することができます。その前に、より一般的な``測度``の概念を導入しなければなりません。"
   ]
  },
  {
   "attachments": {},
   "cell_type": "markdown",
   "metadata": {},
   "source": [
    "# 測度"
   ]
  },
  {
   "cell_type": "markdown",
   "metadata": {},
   "source": []
  }
 ],
 "metadata": {
  "kernelspec": {
   "display_name": "Python 3.9.12 ('shumi-VTLwuKSy-py3.9')",
   "language": "python",
   "name": "python3"
  },
  "language_info": {
   "codemirror_mode": {
    "name": "ipython",
    "version": 3
   },
   "file_extension": ".py",
   "mimetype": "text/x-python",
   "name": "python",
   "nbconvert_exporter": "python",
   "pygments_lexer": "ipython3",
   "version": "3.9.12"
  },
  "orig_nbformat": 4,
  "vscode": {
   "interpreter": {
    "hash": "d6b7cac5e0d2ff733f340da4d53ae5ecfef7f7ad39623f5982b029a09306b36b"
   }
  }
 },
 "nbformat": 4,
 "nbformat_minor": 2
}
