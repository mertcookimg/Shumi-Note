{
 "cells": [
  {
   "attachments": {},
   "cell_type": "markdown",
   "metadata": {},
   "source": [
    "# 行列と行列式\n",
    "\n",
    "参考\n",
    "* [線形代数汎論](https://amzn.asia/d/cQQdYH2)\n",
    "\n",
    "意外と行列の定義とか用語、性質についての理解が浅いので、今回は教科書を参考に一気にやっていきましょう。\n",
    "\n",
    "\n",
    "## 行列\n",
    "\n",
    "*  代数系$K$上の$m\\times n$型の行列$A=[a_{ij}] \\quad (i=1, \\cdots, m; j=1,\\cdots, n)$の定義：\n",
    "$$\n",
    "A=     \\begin{bmatrix}\n",
    "         a_{11} & \\cdots && a_{1n}\\\\\n",
    "         \\vdots & \\ddots && \\vdots\\\\ \n",
    "         a_{m1} & \\cdots && a_{mn} \n",
    "     \\end{bmatrix}\n",
    "    ,\\quad a_{ij} \\in K\n",
    "$$\n",
    "* 下三角部分：$\\{a_{ij}\\mid i\\geq j\\}$\n",
    "* 上三角部分：$\\{a_{ij}\\mid i\\leq j\\}$\n",
    "* 上Hessenberg行列：$i > j+1$のとき$a_{ij}=0$\n",
    "* 下Hessenberg行列：$j > i+1$のとき$a_{ij}=0$\n",
    "$$\n",
    "A=   \\begin{bmatrix}\n",
    "         a_{11} & a_{12} && \\cdots &&& a_{1n}\\\\\n",
    "         a_{21} & a_{22} && \\cdots &&& a_{2n}\\\\ \n",
    "         0 & a_{32} && \\cdots &&& a_{3n}\\\\ \n",
    "         \\vdots & \\vdots && \\ddots &&& \\vdots\\\\ \n",
    "         0 & 0 && \\cdots &&& a_{mn} \n",
    "     \\end{bmatrix}\n",
    "    ,\\quad a_{ij} \\in K\n",
    "$$\n",
    "* 縦ベクトル：$m\\times 1$型の行列\n",
    "* 横ベクトル：$1\\times n$型の行列\n",
    "\n",
    "## 行列算\n",
    "\n",
    "* 行列積：$P = [p_{ij}]=AB$なる$l \\times n$型の行列\n",
    "    * $p_{ij}=\\sum^m_{k=1} a_{ik} b_{kj} \\quad (i=1, \\cdots, l; j=1, \\cdots, n)$\n",
    "    * ここで$A$は$l\\times m$型、$B$は$m \\times n$型の行列\n",
    "\n",
    "## Hermite行列とか\n",
    "\n",
    "* 共役：$K=\\mathbb{C}$（複素数体）のとき、ca$m\\times n$型の行列$A$の共役 $C=[c_{ij}]=\\overline{A}$\n",
    "    * $c_{ij}=\\overline{a}_{ij}$で定められる$m\\times n$型行列のこと。ここで$\\overline{a}_{ij}$は$a$の共役複素数。 \n",
    "* AのHermite共役$A^\\dag$：$(\\overline{A})^\\top=\\overline{A^\\top}$\n",
    "* $A$が正方行列のときの呼び方\n",
    "    * $A^\\top=-A$は反対称行列、交代行列、もしくは歪対称行列\n",
    "    * $A^\\dag=A$はHermite行列\n",
    "    * $A^\\dag=-A$は歪Hermite行列\n",
    "* 任意の正方行列に対して$A=\\frac{1}{2}(A+A^\\top)+\\frac{1}{2}(A-A^\\top)$と対称行列と反対称行列に分割可能\n"
   ]
  },
  {
   "attachments": {},
   "cell_type": "markdown",
   "metadata": {},
   "source": [
    "## 置換行列と基本行列\n",
    "\n",
    "* 正方行列$P$の要素がどれも$0$か$1$に等しく、どの行、列にもちょうど$1$個だけ$1$があるとき、$P$は置換行列と呼ばれる。\n",
    "    * $m$次の置換行列の行$i$における$1$が列$j_i$にあるとき、$m\\times n$の行列$A$に対して、$PA$の行集合の順序は$A$の行集合の順序に次の置換を施すのと同じ\n",
    "    * $m$次の置換行列の行$i$における$1$が列$j_i$にあるとき、$n\\times m$の行列$B$に対して、$BP$の行集合の順序は$B$の列集合の順序に次の置換を施すのと同じ\n",
    "* 特に、ある$i_0$, $j_0$ ($i_0 \\neq j_0$)について、$p_{ii}=1$ ($i\\neq i_0, j_0$), $p_{i_0j_0}=p_{j_0i_0}-1$, $p_{i_0i_0}=p_{j_0j_0}=0$である置換行列は互換行列と呼ばれる。\n",
    "    * $PA$で行$i_0$と$j_0$を入れ替える。\n",
    "$$\n",
    "\\begin{pmatrix}\n",
    "&j_1 \\quad j_2 \\quad \\cdots \\quad j_m\\\\\n",
    "&1 \\quad 2 \\quad \\cdots \\quad m\n",
    "\\end{pmatrix}\n",
    "$$\n",
    "* 基本行列：置換行列と次の２つの行列は合わせて基本行列と呼ぶ\n",
    "    * 行列$T$：$T(i_0;t)A$は$A$の行$i_0$を$t$倍する\n",
    "    * 行列$W$：$W(i_0,j_0;t)A$は$A$の行$j_0$を$t$倍して行$i_0$に加える"
   ]
  },
  {
   "cell_type": "code",
   "execution_count": 16,
   "metadata": {},
   "outputs": [
    {
     "name": "stdout",
     "output_type": "stream",
     "text": [
      "置換行列\n",
      "[[0 1 0]\n",
      " [1 0 0]\n",
      " [0 0 1]]\n",
      "行列A\n",
      "[[ 1  2  3]\n",
      " [11 12 13]\n",
      " [21 22 23]\n",
      " [31 32 33]]\n",
      "行列AP\n",
      "[[ 2  1  3]\n",
      " [12 11 13]\n",
      " [22 21 23]\n",
      " [32 31 33]]\n",
      "行列A.T\n",
      "[[ 1 11 21 31]\n",
      " [ 2 12 22 32]\n",
      " [ 3 13 23 33]]\n",
      "行列PA.T\n",
      "[[ 2 12 22 32]\n",
      " [ 1 11 21 31]\n",
      " [ 3 13 23 33]]\n"
     ]
    }
   ],
   "source": [
    "import numpy as np\n",
    "\n",
    "A = np.array([[1, 2, 3], [11, 12, 13], [21, 22, 23], [31, 32, 33]])  # 4 x 3\n",
    "P = np.array([[0, 1, 0], [1, 0, 0], [0, 0, 1]])\n",
    "\n",
    "print(\"置換行列\")\n",
    "print(P)\n",
    "\n",
    "print(f\"行列A\")\n",
    "print(A)\n",
    "print(f\"行列AP\")\n",
    "print(A @ P)\n",
    "\n",
    "print(f\"行列A.T\")\n",
    "print(A.T)\n",
    "print(f\"行列PA.T\")\n",
    "print(P @ A.T)"
   ]
  },
  {
   "attachments": {},
   "cell_type": "markdown",
   "metadata": {},
   "source": [
    "## 部分行列と行列の分割\n",
    "\n",
    "* $m\\times n$型の行列$A=[a_{ij}]$の$r$本の行と$s$本の列を自然な順に配列してできる$r\\times s$の行列を$A$の部分行列と言う\n",
    "* ブロック行列：行列を部分行列に分割するやつ"
   ]
  },
  {
   "cell_type": "code",
   "execution_count": 26,
   "metadata": {},
   "outputs": [
    {
     "name": "stdout",
     "output_type": "stream",
     "text": [
      "行列 A\n",
      "[[ 1  2  3  4]\n",
      " [11 12 13 14]\n",
      " [21 22 23 24]\n",
      " [31 32 33 44]]\n",
      "部分行列\n",
      "[[13 14]\n",
      " [23 24]]\n"
     ]
    }
   ],
   "source": [
    "import numpy as np\n",
    "\n",
    "A = np.array([[1, 2, 3, 4], [11, 12, 13, 14], [21, 22, 23, 24], [31, 32, 33, 44]])  # 4 x 4\n",
    "print(\"行列 A\")\n",
    "print(A)\n",
    "\n",
    "sub_A = A[[1, 2]][:, [2, 3]]\n",
    "print(\"部分行列\")\n",
    "print(sub_A)"
   ]
  },
  {
   "attachments": {},
   "cell_type": "markdown",
   "metadata": {},
   "source": [
    "## クロネッカー積（直積）\n",
    "\n",
    "$m_1\\times n_1$の行列$A=[a_{ij}]$と$m_2\\times n_2$の行列$B=[b_{ij}]$に対して、クロネッカー積$A\\otimes B$は\n",
    "$$\n",
    "A\\otimes B=   \\begin{bmatrix}\n",
    "         a_{11}B & a_{12}B && \\cdots &&& a_{1n_1} B\\\\\n",
    "         a_{21}B & a_{22}B && \\cdots &&& a_{2n_1} B\\\\\n",
    "         \\vdots & \\vdots && \\ddots &&& \\vdots\\\\ \n",
    "         a_{m_11}B & a_{m_12}B && \\cdots &&& a_{m_1n_1}B \n",
    "     \\end{bmatrix}\n",
    "$$\n",
    "\n",
    "で定義される$(m_1m_2)\\times (n_1n_2)$の行列。\n",
    "\n",
    "---\n",
    "\n",
    "**クロネッカー積と方程式**\n",
    "\n",
    "* $Ax = y$を考えると、$y_i = \\sum_{j=1}^{n_1}a_{ij}x_j$であるから、$A=[a_{ij}]$は方程式の係数とみなせる。\n",
    "* $Bu = v$を考えると、$v_i = \\sum_{j=1}^{n_2}a_{ij}u_j$であるから、$B=[b_{ij}]$は方程式の係数とみなせる。\n",
    "\n",
    "ここで、$y$と$v$の変数の積による新しい$m_1 \\cdot m_2$個の変数（テンソル積とも呼ばれる）\n",
    "\n",
    "$w_1=y_1v_1$, $w_2=y_1 v_2$, ..., $w_{m_2}=y_1 v_{m_2}$, ..., $w_{(m_1 - 1)m_2 + 1} = y_{m_1} v_1$, ..., $w_{m_1 m_2}=y_{m_1}v_{m_2}$\n",
    "\n",
    "を考えよう。また、同様にして$x$と$u$のテンソル積\n",
    "\n",
    "$z_1=x_1u_1$, $z_2=x_1 u_2$, ..., $z_{m_2}=x_1 u_{m_2}$, ..., $z_{(m_1 - 1)m_2 + 1} = x_{m_1} u_1$, ..., $z_{m_1 m_2}=x_{m_1}u_{m_2}$\n",
    "\n",
    "も考える。このとき、\n",
    "\n",
    "$$w_i = \\sum_{j=1}^{n_1\\cdot n_2} (A \\otimes B)_{ij}z_{j}$$\n",
    "\n",
    "が成り立つ。"
   ]
  },
  {
   "cell_type": "code",
   "execution_count": 16,
   "metadata": {},
   "outputs": [
    {
     "name": "stdout",
     "output_type": "stream",
     "text": [
      "行列 A\n",
      "[[ 1  2  3  4]\n",
      " [11 12 13 14]\n",
      " [21 22 23 24]]\n",
      "[[0.1  0.2  0.2  0.4  0.3  0.6  0.4  0.8 ]\n",
      " [0.12 0.22 0.24 0.44 0.36 0.66 0.48 0.88]\n",
      " [1.1  2.2  1.2  2.4  1.3  2.6  1.4  2.8 ]\n",
      " [1.32 2.42 1.44 2.64 1.56 2.86 1.68 3.08]\n",
      " [2.1  4.2  2.2  4.4  2.3  4.6  2.4  4.8 ]\n",
      " [2.52 4.62 2.64 4.84 2.76 5.06 2.88 5.28]]\n",
      "(6, 8)\n",
      "(8,)\n",
      "(6,)\n"
     ]
    }
   ],
   "source": [
    "import numpy as np\n",
    "\n",
    "A = np.array([[1, 2, 3, 4], [11, 12, 13, 14], [21, 22, 23, 24]])  # 3 x 4\n",
    "print(\"行列 A\")\n",
    "print(A)\n",
    "\n",
    "B = np.array([[0.1, 0.2], [0.12, 0.22]])  # 2 x 2\n",
    "\n",
    "AB = np.kron(A, B)\n",
    "print(AB)\n",
    "print(AB.shape)\n",
    "\n",
    "x = np.array([1, 2, 3, 4])\n",
    "u = np.array([11, 22])\n",
    "z = np.tensordot(x, u, axes=0).flatten()\n",
    "print(z.shape)\n",
    "\n",
    "y = A @ x\n",
    "v = B @ u\n",
    "w = np.tensordot(y, v, axes=0).flatten()\n",
    "print(w.shape)\n",
    "\n",
    "np.testing.assert_allclose(w, AB @ z, atol=1e-6)  # クロネッカー積とテンソル積の等号の確認"
   ]
  },
  {
   "attachments": {},
   "cell_type": "markdown",
   "metadata": {},
   "source": [
    "## 交代化演算子\n",
    "\n",
    "$i_k, j_k \\in \\{1, 2, \\cdots, n\\}$とする。\n",
    "$\\varepsilon_{j_1, \\cdots, j_r}^{i_1, \\cdots, i_r}$を、\n",
    "\n",
    "1. $\\varepsilon_{j_1, \\cdots, j_r}^{i_1, \\cdots, i_r}=0$：$\\{i_1, \\cdots, i_r\\}\\neq \\{j_1, \\cdots, j_r\\}$ or $\\{i_1, \\cdots, i_r\\}$の中に同じものがある or $\\{j_1, \\cdots, j_r\\}$の中に同じものがある\n",
    "2. $\\varepsilon_{j_1, \\cdots, j_r}^{i_1, \\cdots, i_r}=1$：書くのがめんどくさいので省略"
   ]
  },
  {
   "cell_type": "code",
   "execution_count": null,
   "metadata": {},
   "outputs": [],
   "source": []
  }
 ],
 "metadata": {
  "kernelspec": {
   "display_name": "shumi-VTLwuKSy-py3.9",
   "language": "python",
   "name": "python3"
  },
  "language_info": {
   "codemirror_mode": {
    "name": "ipython",
    "version": 3
   },
   "file_extension": ".py",
   "mimetype": "text/x-python",
   "name": "python",
   "nbconvert_exporter": "python",
   "pygments_lexer": "ipython3",
   "version": "3.9.12"
  },
  "orig_nbformat": 4,
  "vscode": {
   "interpreter": {
    "hash": "d6b7cac5e0d2ff733f340da4d53ae5ecfef7f7ad39623f5982b029a09306b36b"
   }
  }
 },
 "nbformat": 4,
 "nbformat_minor": 2
}
