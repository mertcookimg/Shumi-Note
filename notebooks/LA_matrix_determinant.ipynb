{
 "cells": [
  {
   "attachments": {},
   "cell_type": "markdown",
   "metadata": {},
   "source": [
    "# 行列と行列式\n",
    "\n",
    "参考\n",
    "* [線形代数汎論](https://amzn.asia/d/cQQdYH2)\n",
    "\n",
    "意外と行列の定義とか用語、性質についての理解が浅いので、今回は教科書を参考に一気にやっていきましょう。\n",
    "\n",
    "\n",
    "## 行列\n",
    "\n",
    "*  代数系$K$上の$m\\times n$型の行列$A=[a_{ij}] \\quad (i=1, \\cdots, m; j=1,\\cdots, n)$の定義：\n",
    "$$\n",
    "A=     \\begin{bmatrix}\n",
    "         a_{11} & \\cdots && a_{1n}\\\\\n",
    "         \\vdots & \\ddots && \\vdots\\\\ \n",
    "         a_{m1} & \\cdots && a_{mn} \n",
    "     \\end{bmatrix}\n",
    "    ,\\quad a_{ij} \\in K\n",
    "$$\n",
    "* 下三角部分：$\\{a_{ij}\\mid i\\geq j\\}$\n",
    "* 上三角部分：$\\{a_{ij}\\mid i\\leq j\\}$\n",
    "* 上Hessenberg行列：$i > j+1$のとき$a_{ij}=0$\n",
    "* 下Hessenberg行列：$j > i+1$のとき$a_{ij}=0$\n",
    "$$\n",
    "A=   \\begin{bmatrix}\n",
    "         a_{11} & a_{12} && \\cdots &&& a_{1n}\\\\\n",
    "         a_{21} & a_{22} && \\cdots &&& a_{2n}\\\\ \n",
    "         0 & a_{32} && \\cdots &&& a_{3n}\\\\ \n",
    "         \\vdots & \\vdots && \\ddots &&& \\vdots\\\\ \n",
    "         0 & 0 && \\cdots &&& a_{mn} \n",
    "     \\end{bmatrix}\n",
    "    ,\\quad a_{ij} \\in K\n",
    "$$\n",
    "* 縦ベクトル：$m\\times 1$型の行列\n",
    "* 横ベクトル：$1\\times n$型の行列\n",
    "\n",
    "## 行列算\n",
    "\n",
    "* 行列積：$P = [p_{ij}]=AB$なる$l \\times n$型の行列\n",
    "    * $p_{ij}=\\sum^m_{k=1} a_{ik} b_{kj} \\quad (i=1, \\cdots, l; j=1, \\cdots, n)$\n",
    "    * ここで$A$は$l\\times m$型、$B$は$m \\times n$型の行列\n",
    "\n",
    "## Hermite行列とか\n",
    "\n",
    "* 共役：$K=\\mathbb{C}$（複素数体）のとき、ca$m\\times n$型の行列$A$の共役 $C=[c_{ij}]=\\overline{A}$\n",
    "    * $c_{ij}=\\overline{a}_{ij}$で定められる$m\\times n$型行列のこと。ここで$\\overline{a}_{ij}$は$a$の共役複素数。 \n",
    "* AのHermite共役$A^\\dag$：$(\\overline{A})^\\top=\\overline{A^\\top}$\n",
    "* $A$が正方行列のときの呼び方\n",
    "    * $A^\\top=-A$は反対称行列、交代行列、もしくは歪対称行列\n",
    "    * $A^\\dag=A$はHermite行列\n",
    "    * $A^\\dag=-A$は歪Hermite行列\n",
    "* 任意の正方行列に対して$A=\\frac{1}{2}(A+A^\\top)+\\frac{1}{2}(A-A^\\top)$と対称行列と反対称行列に分割可能\n"
   ]
  },
  {
   "cell_type": "code",
   "execution_count": 1,
   "metadata": {},
   "outputs": [],
   "source": []
  }
 ],
 "metadata": {
  "kernelspec": {
   "display_name": "shumi-VTLwuKSy-py3.9",
   "language": "python",
   "name": "python3"
  },
  "language_info": {
   "codemirror_mode": {
    "name": "ipython",
    "version": 3
   },
   "file_extension": ".py",
   "mimetype": "text/x-python",
   "name": "python",
   "nbconvert_exporter": "python",
   "pygments_lexer": "ipython3",
   "version": "3.9.12"
  },
  "orig_nbformat": 4
 },
 "nbformat": 4,
 "nbformat_minor": 2
}
