{
 "cells": [
  {
   "attachments": {},
   "cell_type": "markdown",
   "metadata": {},
   "source": [
    "# 確率過程\n",
    "\n",
    "強化学習では時刻にそって確率的な方策や確率的な環境に従ってエージェントが行動していきます。\n",
    "\n",
    "これは数学的には``確率過程``として定義することができます。\n",
    "\n",
    "---\n",
    "\n",
    "**定義：確率過程**\n",
    "\n",
    "時間域を$T$とする。例えば $T=\\mathbb{R_+}$ならこれは連続時間で、$T=\\mathbb{Z_+}$なら離散時間である。\n",
    "任意の $t \\in T$について、$X_t: \\Omega \\to S$ が可測であるとき、$X=(X_t)_{t\\in T}$ を確率過程と呼ぶ。\n",
    "ここで、Sは 状態空間 (例えば $S=\\mathbb{R}, \\mathcal{B}_S = \\mathcal{B}(\\mathbb{R})$ は連続状態）である。\n",
    "\n",
    "---\n",
    "\n",
    "今回は、その中でも重要なPoisson過程とGauss過程について学びます。"
   ]
  },
  {
   "attachments": {},
   "cell_type": "markdown",
   "metadata": {},
   "source": [
    "# Poisson Random Measure と Poisson過程\n",
    "\n",
    "Poisson Random MeasureはPoisson過程を定義する上で必要になる測度であり、単体としても重要な測度です。\n",
    "Poisson Random Measure は``空間上でランダムに発生する事象の件数``のモデリングなどに用いられます。\n",
    "\n",
    "---\n",
    "\n",
    "**定義：Poisson Random Measure**\n",
    "\n",
    "確率変数の族 $X = (X(A))_{A \\in \\mathcal{B}(\\mathbb{R}^d)}$ が次を満たすとき、$X$を平均測度 $\\mu$ の Poisson Random Measureという。\n",
    "\n",
    "1. a.s. $\\omega \\in \\Omega$ において、$X(A)=X(A, \\omega)$が$A$の関数として $\\sigma$-有限な非負測度になっている。\n",
    "2. 任意の$E \\in \\mathcal{B}(\\mathbb{R}^d)$ に対し、$X(E)$は平均$\\mu(E)$のPoisson分布に従う。\n",
    "3. 任意の互いに疎な$E_1, \\dots, E_n \\in \\mathcal{B}(\\mathbb{R}^d)$ に対し、$X(E_i)$は独立。\n",
    "\n",
    "---\n",
    "\n",
    "例えば、日本で起きる交通事故のモデリングを考えてみます。\n",
    "\n",
    "日本全体で生じる``交通事故の件数`` $Z$ をPoisson分布からサンプルして、その $Z$ 件の交通事故を``発生しやすい場所``の度合いを測る確率測度 $\\nu$ に従って各地方に散りばめれば良さそうです。\n",
    "\n",
    "実際にPythonでPoisson Random Measureを構築してみましょう。"
   ]
  },
  {
   "cell_type": "code",
   "execution_count": 34,
   "metadata": {},
   "outputs": [
    {
     "data": {
      "text/plain": [
       "{frozenset(): 0,\n",
       " frozenset({'東北'}): 9,\n",
       " frozenset({'関東'}): 17,\n",
       " frozenset({'近畿'}): 66,\n",
       " frozenset({'東北', '近畿'}): 75,\n",
       " frozenset({'東北', '関東'}): 26,\n",
       " frozenset({'近畿', '関東'}): 83,\n",
       " frozenset({'東北', '近畿', '関東'}): 92}"
      ]
     },
     "execution_count": 34,
     "metadata": {},
     "output_type": "execute_result"
    }
   ],
   "source": [
    "import numpy as np\n",
    "import matplotlib.pyplot as plt\n",
    "\n",
    "japan_mean_measure = 110\n",
    "\n",
    "def area_measure(area: frozenset):\n",
    "    return {\n",
    "        frozenset([]): 0,\n",
    "        frozenset([\"東北\"]): 10,\n",
    "        frozenset([\"関東\"]): 20,\n",
    "        frozenset([\"近畿\"]): 80,\n",
    "        frozenset([\"東北\", \"近畿\"]): 90,\n",
    "        frozenset([\"東北\", \"関東\"]): 30,\n",
    "        frozenset([\"関東\", \"近畿\"]): 100,\n",
    "        frozenset([\"東北\", \"関東\", \"近畿\"]): 110,\n",
    "    }[area]\n",
    "\n",
    "\n",
    "def poisson_random_measure():\n",
    "    # Z個の事故を発生させます\n",
    "    Z = np.random.poisson(japan_mean_measure)\n",
    "\n",
    "    # Z個の事故をarea_probabilityに従って各地方に割り当てます\n",
    "    # 1: 東北, 2: 関東, 3: 近畿　とします\n",
    "    keys = [1, 2, 3]\n",
    "    probs = [\n",
    "        area_measure(frozenset([\"東北\"])) / japan_mean_measure, \n",
    "        area_measure(frozenset([\"関東\"])) / japan_mean_measure, \n",
    "        area_measure(frozenset([\"近畿\"])) / japan_mean_measure, \n",
    "    ]\n",
    "    accidents = np.random.choice(keys, size=Z, replace=True, p=probs)\n",
    "    _, num_accidents = np.unique(accidents, return_counts=True)\n",
    "\n",
    "    # 測度を構築します\n",
    "    prm = {\n",
    "        frozenset([]): 0,\n",
    "        frozenset([\"東北\"]): num_accidents[0],\n",
    "        frozenset([\"関東\"]): num_accidents[1],\n",
    "        frozenset([\"近畿\"]): num_accidents[2],\n",
    "        frozenset([\"東北\", \"近畿\"]): num_accidents[0] + num_accidents[2],\n",
    "        frozenset([\"東北\", \"関東\"]): num_accidents[0] + num_accidents[1],\n",
    "        frozenset([\"関東\", \"近畿\"]): num_accidents[1] + num_accidents[2],\n",
    "        frozenset([\"東北\", \"関東\", \"近畿\"]): np.sum(num_accidents),\n",
    "    }\n",
    "    return prm\n",
    "\n",
    "poisson_random_measure()"
   ]
  },
  {
   "attachments": {},
   "cell_type": "markdown",
   "metadata": {},
   "source": [
    "``poisson_random_measure``を実行すると、ランダムな測度が返ってくることがわかります。なのでPoisson random measureと呼ばれます。これが先程のPoisson Random Measureの定義を満たしていることを確認しましょう (宿題)。\n",
    "\n",
    "ようやくPoisson過程の定義ができます。\n",
    "\n",
    "---\n",
    "\n",
    "**定義：Poisson過程**\n",
    "\n",
    "$(\\mathbb{R}, \\mathcal{B}({\\mathbb{R}}))$上の Poisson Random Measure $Y=(Y(A))_{A\\in \\mathcal{B}(\\mathbb{R})}$ を考えて、$X_t(\\omega)=Y([0, t])(\\omega)$ とする。\n",
    "このとき、$(X_t)_{t\\geq0}$ をPoisson過程と呼ぶ。\n",
    "\n",
    "特に $\\mu([a, b])=\\lambda (b - a)$のときに$X$を強度$\\lambda$のPoisson過程と呼び、これは一様強度である。\n",
    "\n",
    "---\n",
    "\n",
    "Poisson過程は例えば来客数のモデリングなどに使用できます。\n",
    "試しに$[t, t+10)$について、一様強度 $\\lambda$ のPoisson過程を考えてみます。\n",
    "\n",
    "まず、時刻 $[t, t+10)$ の期待値 $10 \\lambda$ に従って、来客数 $Z$ をランダムにサンプルします。\n",
    "これを各時刻間 $[t, t+1), [t+1, t+2), \\dots, [t+9, t+10)$ の期待値に従って散りばめます。今回は全て一様強度のため、一様にばらまきます。"
   ]
  },
  {
   "cell_type": "code",
   "execution_count": 1,
   "metadata": {},
   "outputs": [
    {
     "data": {
      "text/plain": [
       "Text(0, 0.5, \"$X_t (\\\\omega)$ for some $\\\\omega$ due to 'np.random.poisson'\")"
      ]
     },
     "execution_count": 1,
     "metadata": {},
     "output_type": "execute_result"
    },
    {
     "data": {
      "image/png": "[encoded data removed]",
      "text/plain": [
       "<Figure size 640x480 with 1 Axes>"
      ]
     },
     "metadata": {},
     "output_type": "display_data"
    }
   ],
   "source": [
    "import numpy as np\n",
    "import matplotlib.pyplot as plt\n",
    "from scipy import stats\n",
    "\n",
    "lamb = 0.2  # 強度\n",
    "t = np.arange(0, 100, 1)  # 時刻 [0, 100]\n",
    "poisson_process = np.zeros(100)\n",
    "\n",
    "Z = np.random.poisson(lamb * 100)\n",
    "Y_t = np.random.randint(0, 99, Z)  # Z個の来客を一様にばらまく\n",
    "for y in Y_t:\n",
    "    poisson_process[y] += 1\n",
    "poisson_process = np.cumsum(poisson_process)\n",
    "\n",
    "plt.plot(t, poisson_process)\n",
    "plt.ylabel(r\"$X_t (\\omega)$ for some $\\omega$ due to 'np.random.poisson'\")"
   ]
  },
  {
   "attachments": {},
   "cell_type": "markdown",
   "metadata": {},
   "source": [
    "ちなみに、ジャンプの高さについてもランダムに決まるPoisson過程は``Compound ポアソン過程``と呼ばれます。\n",
    "例えば、Poisson過程のジャンプ点 $\\tau_1, \\tau_2, \\dots$ に対して、適当な分布$F$から独立に $\\zeta_1, \\zeta_2, \\dots$をサンプルして、$\\sum^{\\infty}_{i=1} \\zeta_i \\bf{1}\\{\\tau_i \\leq t\\}$ とすると、これはCompound ポアソン過程になります。\n",
    "通常のPoisson過程と異なり、これはジャンプの回数ではなく、ジャンプの累積高さを出力することになります。"
   ]
  },
  {
   "cell_type": "code",
   "execution_count": 3,
   "metadata": {},
   "outputs": [
    {
     "data": {
      "text/plain": [
       "Text(0, 0.5, \"$X_t (\\\\omega)$ for some $\\\\omega$ due to 'np.random.poisson'\")"
      ]
     },
     "execution_count": 3,
     "metadata": {},
     "output_type": "execute_result"
    },
    {
     "data": {
      "image/png": "[encoded data removed]",
      "text/plain": [
       "<Figure size 640x480 with 1 Axes>"
      ]
     },
     "metadata": {},
     "output_type": "display_data"
    }
   ],
   "source": [
    "# Compound ポアソン過程\n",
    "import numpy as np\n",
    "import matplotlib.pyplot as plt\n",
    "from scipy import stats\n",
    "\n",
    "lamb = 0.2  # 強度\n",
    "t = np.arange(0, 100, 1)  # 時刻 [0, 100]\n",
    "poisson_process = np.zeros(100)\n",
    "\n",
    "Z = np.random.poisson(lamb * 100)\n",
    "Y_t = np.random.randint(0, 99, Z)  # Z個の来客を一様にばらまく\n",
    "for y in Y_t:\n",
    "    poisson_process[y] += np.random.randint(0, 10)\n",
    "poisson_process = np.cumsum(poisson_process)\n",
    "\n",
    "plt.plot(t, poisson_process)\n",
    "plt.ylabel(r\"$X_t (\\omega)$ for some $\\omega$ due to 'np.random.poisson'\")"
   ]
  },
  {
   "attachments": {},
   "cell_type": "markdown",
   "metadata": {},
   "source": [
    "最後に、より一般的な ``Pure-Jump Levy 過程``を導入しましょう。\n",
    "\n",
    "---\n",
    "\n",
    "**定義：Pure-Jump Levy 過程**\n",
    "\n",
    "* $N: [0, \\infty)\\times \\mathbb{R}$上のPoisson random measure\n",
    "* $\\mu: $ $N$の平均測度とする。$\\forall t \\geq 0$ において、\n",
    "    * $\\mu (\\{t\\} \\times (\\mathbb{R} \\setminus \\{0\\}))=0$  : ある時刻 $t$ でちょうどジャンプする確率は$0$\n",
    "    * $\\int_{S \\in [0, t]}\\int_{|u| > 0} (u^2 \\wedge 1) \\mu (dsdu) < \\infty$ ： $u=0$付近で無限回ジャンプが発生しても良いが、あまりに多いことは無い。\n",
    "* $m(t): $ ドリフト項。連続かつ $m(0)=0$。\n",
    "* $\\phi(u)=\\max(-1, \\min(u, 1))$ ：$u$のクリッピング。これを追加して、$u$の積分が発散しないようにする。これがあると$n\\to\\infty$が可能になり、$\\lim$が概収束する。\n",
    "\n",
    "この時、\n",
    "$$\n",
    "X_t = m(t) + \\lim_{n\\to \\infty} \\int_{S \\in [0, t]}\\int_{|u| \\geq \\frac{1}{n}} (u N(ds, du) - \\phi(u)\\mu (ds, du))\n",
    "$$\n",
    "\n",
    "---\n",
    "\n",
    "直感的には, $s$が単位時刻、$u$がジャンプの高さに対応します。また、$\\mu(dtdu) = dt dF(u)$の形に書ける時、これはCompound Poisson過程と一緒になります。"
   ]
  }
 ],
 "metadata": {
  "kernelspec": {
   "display_name": "Python 3.9.16 ('shumi-_oTXvTFg-py3.9')",
   "language": "python",
   "name": "python3"
  },
  "language_info": {
   "codemirror_mode": {
    "name": "ipython",
    "version": 3
   },
   "file_extension": ".py",
   "mimetype": "text/x-python",
   "name": "python",
   "nbconvert_exporter": "python",
   "pygments_lexer": "ipython3",
   "version": "3.9.16"
  },
  "orig_nbformat": 4,
  "vscode": {
   "interpreter": {
    "hash": "3fd07722de738cd9d533f64bafb7e99d08036d32b040e80da3eb397be78d09a1"
   }
  }
 },
 "nbformat": 4,
 "nbformat_minor": 2
}
