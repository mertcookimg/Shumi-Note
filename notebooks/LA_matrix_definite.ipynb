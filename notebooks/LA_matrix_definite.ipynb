{
 "cells": [
  {
   "attachments": {},
   "cell_type": "markdown",
   "metadata": {},
   "source": [
    "# 正定値性\n",
    "\n",
    "## Hermite行列\n",
    "\n",
    "行列$A$の転置行列の各成分を複素共役にしたものを随伴行列といいます。\n",
    "特に\n",
    "$$\n",
    "H^{\\dagger} = H\n",
    "$$\n",
    "のとき、$H$をHermite行列と言います。\n",
    "\n",
    "* Hermite行列の固有値は実数になります。証明：[エルミート行列の性質](https://risalc.info/src/Hermitian-matrix.html)\n",
    "* 異なる固有値の固有ベクトルは直行します。証明：[エルミート行列の性質](https://risalc.info/src/Hermitian-matrix.html)\n"
   ]
  },
  {
   "attachments": {},
   "cell_type": "markdown",
   "metadata": {},
   "source": [
    "## 実対称行列の正定値\n",
    "\n",
    "* $A$が正定値$\\Longleftrightarrow$ $\\forall x \\neq 0, \\quad x^{\\top} A x>0$ $\\Longleftrightarrow$ 固有値が正の実数\n",
    "    * $A$が正定値$\\Longleftrightarrow$ $\\det{A} > 0$の証明：\n",
    "        * [https://mathlandscape.com/positive-definite-matrix/](https://mathlandscape.com/positive-definite-matrix/)\n",
    "        * 帰納法でも可\n",
    "\n",
    "---\n",
    "\n",
    "**帰納法による証明**\n",
    "\n",
    "$n-1$のサイズの行列に対して、$A$が正定値$\\Longrightarrow$ $\\det{A} > 0$とする。\n",
    "このとき、$n$のサイズについてもこれが成り立つことを証明しよう。\n",
    "\n",
    "$\\alpha > 0$について、\n",
    "$A=\\left[\\begin{array}{cc}\\alpha & c \\\\ c^{\\top} & D\\end{array}\\right]$\n",
    "なる対称行列を考える。($\\alpha > 0$は正定値対称を保証するために必要。$x=[1, 0, 0, \\dots, 0]$みたいなベクトルを考えるとわかる。)\n",
    "\n",
    "このとき、$\\operatorname{det} A=\\alpha \\operatorname{det}\\left(D-\\frac{c^{\\top} c}{\\alpha}\\right)$の形になる。\n",
    "\n",
    "ここで、\n",
    "$$\n",
    "A^{\\prime}:=\\left[\\begin{array}{cc}\n",
    "\\alpha & 0 \\\\\n",
    "0 & D-\\frac{c^{\\top} c}{\\alpha}\n",
    "\\end{array}\\right]=\\left[\\begin{array}{cc}\n",
    "1 & 0 \\\\\n",
    "-\\frac{c^{\\top}}{\\alpha} & I\n",
    "\\end{array}\\right]\\left[\\begin{array}{cc}\n",
    "\\alpha & c \\\\\n",
    "c^{\\top} & D\n",
    "\\end{array}\\right]\\left[\\begin{array}{cc}\n",
    "1 & -\\frac{c}{\\alpha} \\\\\n",
    "0 & I\n",
    "\\end{array}\\right]\n",
    "$$\n",
    "\n",
    "について考えてみよう。このとき、$A$が正定値ならば、$A'=PAP^T$の形になっている$A'$も正定値でなければならない。\n",
    "よって、$D-\\frac{c^{\\top} c}{\\alpha}$も正定値。\n",
    "帰納法の仮定より$\\operatorname{det}\\left(D-\\frac{c^{\\top} c}{\\alpha}\\right)>0$なので、$\\det A>0$。証明終わり。\n",
    "\n",
    "---"
   ]
  },
  {
   "attachments": {},
   "cell_type": "markdown",
   "metadata": {},
   "source": [
    "* $A$が実対称行列であるとき、$A$が正定値 $\\Longleftrightarrow$ 全ての首座小行列式が正\n",
    "\n",
    "---\n",
    "\n",
    "**証明**\n",
    "\n",
    "$\\Longrightarrow$は簡単。$x=[1, 1, 1, 0, 0, \\dots, 0]$みたいなベクトルを選ぶと、首座小行列式も正定値対称であることがわかる。\n",
    "\n",
    "$\\Longleftarrow$は$A$の大きさ$n$についての帰納法を、行列式のやつと同様にすればわかる\n",
    "\n",
    "---"
   ]
  },
  {
   "attachments": {},
   "cell_type": "markdown",
   "metadata": {},
   "source": [
    "* $A$が実対称行列であるとき、$A$が半正定値 $\\Longleftrightarrow$ 全ての首小行列式が非負\n",
    "    * 全ての首座小行列式が非負でも半正定値とは限らない。例：$A=\\left(\\begin{array}{cc}0 & 0 \\\\ 0 & -1\\end{array}\\right)$\n",
    "\n",
    "---\n",
    "\n",
    "**証明**\n",
    "\n",
    "$\\Longrightarrow$は簡単。$x=[0, 0, 1, 1, 0, \\dots, 0]$みたいなベクトルを選ぶと、首小行列式も半正定値対称であることがわかる。\n",
    "\n",
    "$\\Longleftarrow$は$A$の大きさ$n$についての帰納法を、行列式のやつと同様にすればわかる。\n",
    "\n",
    "---"
   ]
  },
  {
   "attachments": {},
   "cell_type": "markdown",
   "metadata": {},
   "source": [
    "* $A$が正定値対称 $\\Longleftrightarrow$ $A^{-1}$も正定値対称\n",
    "\n",
    "---\n",
    "\n",
    "**証明**\n",
    "\n",
    "$\\Longrightarrow$は簡単。$x=[0, 0, 1, 1, 0, \\dots, 0]$みたいなベクトルを選ぶと、首小行列式も半正定値対称であることがわかる。\n",
    "\n",
    "$\\Longleftarrow$は$A$の大きさ$n$についての帰納法を、行列式のやつと同様にすればわかる。\n",
    "\n",
    "---"
   ]
  },
  {
   "cell_type": "code",
   "execution_count": null,
   "metadata": {},
   "outputs": [],
   "source": []
  }
 ],
 "metadata": {
  "language_info": {
   "name": "python"
  },
  "orig_nbformat": 4
 },
 "nbformat": 4,
 "nbformat_minor": 2
}
