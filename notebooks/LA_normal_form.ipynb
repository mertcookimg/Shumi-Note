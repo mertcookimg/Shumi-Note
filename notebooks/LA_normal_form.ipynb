{
 "cells": [
  {
   "attachments": {},
   "cell_type": "markdown",
   "metadata": {},
   "source": [
    "# 行列の標準形と応用\n",
    "\n",
    "参考\n",
    "* [線形代数汎論](https://amzn.asia/d/cQQdYH2): ６章\n",
    "\n",
    "行列の一般の「標準形」を次のように定義する。\n",
    "\n",
    "* $\\mathcal{M}$：考察の対称とする行列全体の集合。例えば複素$n$次正方行列\n",
    "* $\\mathcal{G}$：想定する変換全体の集合（変換群）。例えば相似変換($A'=S^{-1}AS$みたいな。[LA_vector_space.ipynb](LA_vector_space.ipynb)参照。)。\n",
    "\n",
    "まず、$A, B\\in \\mathcal{M}$に対して「同値関係」を次のように導入する。\n",
    "\n",
    "$$A\\sim B \\Longleftrightarrow \\exist T \\in \\mathcal{G}, T(A) = B$$\n",
    "\n",
    "このとき$\\sim$は$\\mathcal{M}$を同値類に分類しており、各同値類の代表元のことを「標準形」と呼ぶ。"
   ]
  },
  {
   "attachments": {},
   "cell_type": "markdown",
   "metadata": {},
   "source": [
    "色んな線形写像と、その変換（標準形）について見ていきます。（岩田先生のスライドより引用）\n",
    "\n",
    "![normal](figs/normal_form.png)\n"
   ]
  },
  {
   "attachments": {},
   "cell_type": "markdown",
   "metadata": {},
   "source": [
    "### 階数標準形\n",
    "\n",
    "![rank_normal](figs/rank_normal_form.png)\n",
    "\n",
    "行列の基本演算によって、適当な$m\\times n$行列は上のような形に変形できる。\n",
    "このとき得られる\n",
    "\n",
    "$$A'=SAT$$\n",
    "\n",
    "を$A$の階数標準形と呼ぶ。\n",
    "\n",
    "これによって行列のランクは変化していないことに注意しよう。（$S$と$T$は行列の基本演算であり、正則なので。）\n",
    "これを使うと、やや面倒な関係式を分かりやすく証明することが多々ある。\n",
    "\n",
    "例えば、\n",
    "\n",
    "$$\n",
    "\\operatorname{rank}(AB) + \\operatorname{rank}(BC)\n",
    "\\leq \n",
    "\\operatorname{rank}(ABC) + \\operatorname{rank}(B)\n",
    "$$\n",
    "\n",
    "を証明してみよう。（$A$は$k\\times l$、$B$は$l\\times m$、$C$は$m\\times n$の行列）　\n",
    "\n",
    "まず、$A$と$C$を階数標準形になおしてみる。\n",
    "$A'=S_1 A T_1$, $C'=S_2 C T_2$ とすると、\n",
    "上の両辺を全て「$'$」がついた記号に置き換えても、両辺のrankは変化しない。\n",
    "\n",
    "ここで、\n",
    "$$A'B'=S_1 A T_1 B'$$\n",
    "について、$S_1 A T_1$が左上に$1$が並んだ行列であることを考えると、$A'B'$は$B'$の部分行列として書ける。\n",
    "同様にして全ての項が$B'$の部分行列として書ける。\n",
    "\n",
    "後はごにょごにょすると証明できるぞ（p.243参照）。"
   ]
  },
  {
   "attachments": {},
   "cell_type": "markdown",
   "metadata": {},
   "source": [
    "## 正規行列と対角化、Schur標準形\n",
    "\n",
    "Jordan標準形に行く前に、少し特殊なケースとして、$A$が正規行列なら対角化できることを述べておこう。これをするためにSchur標準形が出てくる。\n",
    "\n",
    "**正規行列**\n",
    "\n",
    "正規行列とユニタリ行列とHermite行列の違いに注意しましょう\n",
    "\n",
    "* 正規行列：$AA^H = A^HA$\n",
    "* ユニタリ行列（実行列なら直交行列です）：$AA^H = A^HA = I$\n",
    "* Hermite行列（実行列なら対称行列です）：$A^H = A$\n",
    "\n",
    "**Schur標準形**\n",
    "\n",
    "複素正方行列$A$に対して、ユニタリ行列$Q$を使って、次のような上三角行列への変換を行う標準形が存在する。　\n",
    "\n",
    "![Shur](figs/Schur_normal_form.png)\n",
    "\n",
    "証明は[LA_matrix_definite.ipynb](LA_matrix_definite.ipynb)でやりましたが、$A$の大きさ$n$の帰納法でやります。\n",
    "ここで、特に$A$が正規行列の時、$AA^H=QRQ^HQR^HQ^H$の形に書ける。このとき$R$が対角行列でなけれなばならないことを帰納法で示せばOK。\n"
   ]
  },
  {
   "attachments": {},
   "cell_type": "markdown",
   "metadata": {},
   "source": [
    "## Jordan標準形\n",
    "\n",
    "このように正規行列なら対角化可能です。\n",
    "一方で、対角化不可能な行列に対しては、Jordan標準形を使えば似たような形式にもっていけます。\n",
    "\n",
    "任意の複素正方行列$A$に対して、\n",
    "次のような行列に変形できる正則行列$S$が存在します。\n",
    "\n",
    "![jordan](figs/Jordan.png)\n",
    "\n",
    "より一般には、$n\\times n$行列に対しては、下図のように右下に正則行列をもつ形に変形できます。\n",
    "\n",
    "下図の一般の場合については変形ができるとしましょう（右下に正則行列を固めるように頑張れば変形できます）\n",
    "これに対して、$A$の固有値を$\\lambda_1$とすると、$A- \\lambda_1 I$が一般の場合に変形できます（複素正方行列には固有値が存在します）。\n",
    "\n",
    "これに$\\lambda_1 I$を足せば、Jordan標準形の最初の部分が完成します。繰り返しやればJordan標準形が得られます。"
   ]
  },
  {
   "attachments": {},
   "cell_type": "markdown",
   "metadata": {},
   "source": [
    "## Sylvester標準形\n",
    "\n",
    "Sylvester標準形は「二次形式」（二次の項だけでできている多項式）について考えるときに便利です。\n",
    "\n",
    "一般の二次形式は以下で表されます。\n",
    "\n",
    "$$\\sum_{i=1}^n \\sum_{j=1}^n a_{ij} x_i x_j$$ \n",
    "\n",
    "例えば$x_1^2 + 3 x_1 x_2 + x_2^2$は二次形式です。これは係数行列$A=[a_{ij}]$を使うと、\n",
    "\n",
    "$$\\sum_{i=1}^n \\sum_{j=1}^n a_{ij} x_i x_j=x^T A x$$ \n",
    "\n",
    "の形で書ける。ここでさらに、$x^T A x=(x^T A x)^T = x^T A^T x$なので、\n",
    "\n",
    "$$\\sum_{i=1}^n \\sum_{j=1}^n a_{ij} x_i x_j=x^T A x=\\frac{1}{2}(x^T A x + x^T A^T x) = x^T \\left(\\frac{A + A^T}{2}\\right) x $$ \n",
    "\n",
    "である。これより、二次形式には係数行列の対称部分しか効かない。なので、二次形式の係数行列は対称行列を仮定しても問題ない。\n",
    "\n",
    "一方で、対称行列を含む正規行列は対角化できることを思い出そう。\n",
    "対称行列$A$は適当な変形$P$によって$PAP^T = LDL^T$とできるので、係数行列$A$は次のような形式に書き直すことができる。\n",
    "\n",
    "![sylvester](figs/sylvester_normal_form.png)\n",
    "\n",
    "よって、\n",
    "$$\\sum_{i=1}^n \\sum_{j=1}^n a_{ij} x_i x_j=x^T A x$$ \n",
    "に対して、\n",
    "$$x^T A x= (x^TS) A' (S^*x)$$ \n",
    "\n",
    "なので、$x^T S$なる変数変換を施すと、任意の二次形式は$a_1' x_1^2 + a_2' x_2^2 + \\cdots$のように、「キレイな」形に書き直すことができる。"
   ]
  },
  {
   "cell_type": "code",
   "execution_count": null,
   "metadata": {},
   "outputs": [],
   "source": []
  }
 ],
 "metadata": {
  "language_info": {
   "name": "python"
  },
  "orig_nbformat": 4
 },
 "nbformat": 4,
 "nbformat_minor": 2
}
