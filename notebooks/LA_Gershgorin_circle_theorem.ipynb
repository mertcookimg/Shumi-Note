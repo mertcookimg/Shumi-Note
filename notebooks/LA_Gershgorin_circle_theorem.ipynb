{
 "cells": [
  {
   "attachments": {},
   "cell_type": "markdown",
   "metadata": {},
   "source": [
    "# Gershgorinの定理\n",
    "\n",
    "参考：\n",
    "* [ゲルシュゴリンの定理](https://ja.m.wikipedia.org/wiki/ゲルシュゴリンの定理)\n",
    "\n",
    "固有値がざっくりどのくらいの値に収まるかを評価したいときにはGershgorinの定理が便利です。\n",
    "\n",
    "$A=(a_{j i})$を$(n\\times n)$の複素正方行列とします。\n",
    "\n",
    "---\n",
    "\n",
    "**Gershgorinの定理**\n",
    "\n",
    "任意の固有値$\\lambda$は、複素平面上において、\n",
    "$$D_i:= \\{z|z \\in \\mathbb{C}, |z - a_{a_{ii}}|\\leq r_i\\}\\;,$$\n",
    "$$r_i := \\sum_{j\\neq i}|a_{ij}|$$\n",
    "\n",
    "で定義される$n$個の円盤$D_i$の合併集合$\\cup_{i=1}^nD_i$の中にある。\n",
    "\n",
    "---\n",
    "\n",
    "証明しましょう。\n",
    "$x=[x_j]$を固有値$\\lambda$に対応する固有ベクトルとします。このとき、\n",
    "$$\\sum_{j=1}^n a_{ij}x_j=\\lambda x_i$$\n",
    "です。\n",
    "$|x_i|$が最大の$i$を$k$とおいて上の士気を変形すると、$(\\lambda - a_{kk})x_k=\\sum_{j\\neq k}a_{kj}x_j$であるから、\n",
    "\n",
    "$$|\\lambda - a_{kk}|\\cdot |x_k| \\leq \\sum_{j\\neq k} |a_{kj}|\\cdot |x_j|$$\n",
    "\n",
    "なので、\n",
    "\n",
    "$$|\\lambda - a_{kk}| \\leq \\sum_{j\\neq k} |a_{kj}|\\cdot \\frac{|x_j|}{|x_k|} \\leq \\sum_{j\\neq k} |a_{kj}| = r_k$$\n",
    "\n",
    "が成り立ちます。よって$\\lambda \\in D_k$です。\n",
    "\n",
    "\n",
    "例を見てみましょう。\n"
   ]
  },
  {
   "cell_type": "code",
   "execution_count": 23,
   "metadata": {},
   "outputs": [
    {
     "name": "stdout",
     "output_type": "stream",
     "text": [
      "固有値 [-10.86910166   1.89948876   9.82178844   8.14782446]\n",
      "中心 [ 10.   8.   2. -11.]\n",
      "半径 [2.  0.6 1.2 2.2]\n"
     ]
    },
    {
     "data": {
      "image/png": "[encoded data removed]",
      "text/plain": [
       "<Figure size 640x480 with 1 Axes>"
      ]
     },
     "metadata": {},
     "output_type": "display_data"
    }
   ],
   "source": [
    "import numpy as np\n",
    "import matplotlib.pyplot as plt\n",
    "from matplotlib import patches\n",
    "\n",
    "A = np.array(\n",
    "    [\n",
    "        [10, -1, 0, 1],\n",
    "        [0.2, 8, 0.2, 0.2],\n",
    "        [1, 1, 2, 1],\n",
    "        [-1, -1, -1, -11],\n",
    "    ]\n",
    ")\n",
    "\n",
    "eig_values, _ = np.linalg.eig(A)\n",
    "print(\"固有値\", eig_values)\n",
    "\n",
    "diag = np.diag(A)\n",
    "print(\"中心\", diag)\n",
    "r_row = np.abs(A).sum(axis=1) - np.abs(diag)\n",
    "r_col = np.abs(A).sum(axis=0) - np.abs(diag)\n",
    "R = np.minimum(r_row, r_col)\n",
    "print(\"半径\", R)\n",
    "\n",
    "\n",
    "fig, ax = plt.subplots()\n",
    "\n",
    "# 円を描画します\n",
    "for c, r in zip(diag, R):\n",
    "    patch = patches.Circle(xy=(c, 0), radius=r, alpha=0.7)\n",
    "    ax.add_patch(patch)\n",
    "\n",
    "ax.autoscale()\n",
    "\n",
    "\n",
    "# 固有値を描画します\n",
    "for ev in eig_values:\n",
    "    plt.scatter(ev, 0, color=\"orange\")\n",
    "\n",
    "plt.show()"
   ]
  },
  {
   "attachments": {},
   "cell_type": "markdown",
   "metadata": {},
   "source": [
    "ゲルシュゴリンの定理は条件数の大きな行列$A$に対する$Ax=b$の形の方程式を$x$について解くときに便利です。\n",
    "条件数が大きいと$Ax=b$の回の誤差は大きくなってしまうので、何らかの前処理$PAx = Pb$を実現し、これを$x$について解きます。特に$P\\approx A^{-1}$となるように選択すればよさそうですが、逆行列を求めるのは大変なので、\n",
    "$PA \\approx I$となることを利用します。\n",
    "$PA$の固有値は全て１に近く、さらにゲルシュゴリンの定理からどの程度の範囲にあるかが分かるので、$P$の選び方を大まかに決定できます。\n"
   ]
  },
  {
   "cell_type": "code",
   "execution_count": null,
   "metadata": {},
   "outputs": [],
   "source": []
  }
 ],
 "metadata": {
  "kernelspec": {
   "display_name": "shumi-_oTXvTFg-py3.9",
   "language": "python",
   "name": "python3"
  },
  "language_info": {
   "codemirror_mode": {
    "name": "ipython",
    "version": 3
   },
   "file_extension": ".py",
   "mimetype": "text/x-python",
   "name": "python",
   "nbconvert_exporter": "python",
   "pygments_lexer": "ipython3",
   "version": "3.9.16"
  },
  "orig_nbformat": 4,
  "vscode": {
   "interpreter": {
    "hash": "3fd07722de738cd9d533f64bafb7e99d08036d32b040e80da3eb397be78d09a1"
   }
  }
 },
 "nbformat": 4,
 "nbformat_minor": 2
}
